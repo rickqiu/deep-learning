{
  "nbformat": 4,
  "nbformat_minor": 0,
  "metadata": {
    "colab": {
      "name": "Untitled5.ipynb",
      "provenance": [],
      "machine_shape": "hm",
      "authorship_tag": "ABX9TyMR/8hBk69Rd1CORjSG+pYP",
      "include_colab_link": true
    },
    "kernelspec": {
      "name": "python3",
      "display_name": "Python 3"
    },
    "accelerator": "GPU"
  },
  "cells": [
    {
      "cell_type": "markdown",
      "metadata": {
        "id": "view-in-github",
        "colab_type": "text"
      },
      "source": [
        "<a href=\"https://colab.research.google.com/github/rickqiu/deep-learning/blob/master/DeepSORT_Experiment.ipynb\" target=\"_parent\"><img src=\"https://colab.research.google.com/assets/colab-badge.svg\" alt=\"Open In Colab\"/></a>"
      ]
    },
    {
      "cell_type": "markdown",
      "metadata": {
        "id": "NXLi0w0R81RI",
        "colab_type": "text"
      },
      "source": [
        "# Object Tracking Experiment with DeepSORT + YOLOv3\n",
        "\n"
      ]
    },
    {
      "cell_type": "code",
      "metadata": {
        "id": "tIxWOulT71bl",
        "colab_type": "code",
        "colab": {
          "base_uri": "https://localhost:8080/",
          "height": 136
        },
        "outputId": "1d581347-1d73-4733-e6ec-b18da195542f"
      },
      "source": [
        "# Clone yolov3_deepsort project from github\n",
        "!git clone https://github.com/rickqiu/yolov3_deepsort.git"
      ],
      "execution_count": 1,
      "outputs": [
        {
          "output_type": "stream",
          "text": [
            "Cloning into 'yolov3_deepsort'...\n",
            "remote: Enumerating objects: 71, done.\u001b[K\n",
            "remote: Counting objects: 100% (71/71), done.\u001b[K\n",
            "remote: Compressing objects: 100% (66/66), done.\u001b[K\n",
            "remote: Total 156 (delta 30), reused 12 (delta 4), pack-reused 85\u001b[K\n",
            "Receiving objects: 100% (156/156), 42.61 MiB | 29.79 MiB/s, done.\n",
            "Resolving deltas: 100% (43/43), done.\n"
          ],
          "name": "stdout"
        }
      ]
    },
    {
      "cell_type": "code",
      "metadata": {
        "id": "2nzy8IQu75I0",
        "colab_type": "code",
        "colab": {
          "base_uri": "https://localhost:8080/",
          "height": 204
        },
        "outputId": "c788c713-59fd-4151-c239-d7d78e405bd7"
      },
      "source": [
        "# Download yolov3 weights\n",
        "!wget https://pjreddie.com/media/files/yolov3.weights -O /content/yolov3_deepsort/weights/yolov3.weights"
      ],
      "execution_count": 3,
      "outputs": [
        {
          "output_type": "stream",
          "text": [
            "--2020-06-03 20:47:54--  https://pjreddie.com/media/files/yolov3.weights\n",
            "Resolving pjreddie.com (pjreddie.com)... 128.208.4.108\n",
            "Connecting to pjreddie.com (pjreddie.com)|128.208.4.108|:443... connected.\n",
            "HTTP request sent, awaiting response... 200 OK\n",
            "Length: 248007048 (237M) [application/octet-stream]\n",
            "Saving to: ‘/content/yolov3_deepsort/weights/yolov3.weights’\n",
            "\n",
            "/content/yolov3_dee 100%[===================>] 236.52M   499KB/s    in 9m 27s  \n",
            "\n",
            "2020-06-03 20:57:22 (428 KB/s) - ‘/content/yolov3_deepsort/weights/yolov3.weights’ saved [248007048/248007048]\n",
            "\n"
          ],
          "name": "stdout"
        }
      ]
    },
    {
      "cell_type": "code",
      "metadata": {
        "id": "pbsjnjww8OJ0",
        "colab_type": "code",
        "colab": {
          "base_uri": "https://localhost:8080/",
          "height": 34
        },
        "outputId": "46d31536-9fff-4b8e-f1d2-021aa05324eb"
      },
      "source": [
        "%cd /content/yolov3_deepsort"
      ],
      "execution_count": 4,
      "outputs": [
        {
          "output_type": "stream",
          "text": [
            "/content/yolov3_deepsort\n"
          ],
          "name": "stdout"
        }
      ]
    },
    {
      "cell_type": "code",
      "metadata": {
        "id": "-Oj8S85N8Sd8",
        "colab_type": "code",
        "colab": {
          "base_uri": "https://localhost:8080/",
          "height": 85
        },
        "outputId": "c25f4970-e923-4196-96e4-ab8cc7ad0d1d"
      },
      "source": [
        "# Load yolov3 weights to model and save it to tensorflow.tf files\n",
        "!python load_weights.py --weights ./weights/yolov3.weights \\\n",
        "                        --output ./weights/yolov3.tf  \\\n",
        "                        --tiny False \\\n",
        "                        --num_classes 1"
      ],
      "execution_count": 5,
      "outputs": [
        {
          "output_type": "stream",
          "text": [
            "  File \"load_weights.py\", line 17\n",
            "    if args.tiny == 'True':\n",
            "                          ^\n",
            "TabError: inconsistent use of tabs and spaces in indentation\n"
          ],
          "name": "stdout"
        }
      ]
    },
    {
      "cell_type": "code",
      "metadata": {
        "id": "EF_Vc_Xl-Xw2",
        "colab_type": "code",
        "colab": {}
      },
      "source": [
        ""
      ],
      "execution_count": 0,
      "outputs": []
    }
  ]
}