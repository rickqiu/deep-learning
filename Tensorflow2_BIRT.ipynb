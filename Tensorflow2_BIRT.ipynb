{
  "nbformat": 4,
  "nbformat_minor": 0,
  "metadata": {
    "kernelspec": {
      "display_name": "Python 3",
      "language": "python",
      "name": "python3"
    },
    "language_info": {
      "codemirror_mode": {
        "name": "ipython",
        "version": 3
      },
      "file_extension": ".py",
      "mimetype": "text/x-python",
      "name": "python",
      "nbconvert_exporter": "python",
      "pygments_lexer": "ipython3",
      "version": "3.7.7"
    },
    "colab": {
      "name": "word_embedding.ipynb",
      "provenance": [],
      "machine_shape": "hm"
    },
    "accelerator": "GPU"
  },
  "cells": [
    {
      "cell_type": "markdown",
      "metadata": {
        "id": "o2nRY4GyKWqL",
        "colab_type": "text"
      },
      "source": [
        "# Tensorflow 2 - BERT Demo: Toxic Comment Classification\n",
        "Author: Rick Qiu \n",
        "\n",
        "$BERT$ stands for Bidirectional Encoder Representations from Transformers. A pre-trained BERT model can be fine tuned to create state-of-the-art models for a wide range of NLP tasks such as question answering, sentiment analysis and named entity recognition. $BERT_{BASE}$ has total parameters of 110M (L=12, H=768, A=12, Total Parameters=110M) and $BERT_{LARGE}$ has 340M (L=24, H=1024, A=16, Total Parameters=340M) (Devlin et al, 2019, [BERT paper link](https://arxiv.org/pdf/1810.04805.pdf)).\n",
        "\n",
        "\n",
        "**Problem**\n",
        "\n",
        "Discussing things you care about can be difficult. The threat of abuse and harassment online means that many people stop expressing themselves and give up on seeking different opinions. Platforms struggle to effectively facilitate conversations, leading many communities to limit or completely shut down user comments.\n",
        "\n",
        "You’re challenged to build a multi-headed model that’s capable of detecting different types of of toxicity like threats, obscenity, insults, and identity-based hate. The Kaggle Jigsaw-toxic-comment datasets can be dowloaded through this [Kaggle link](https://www.kaggle.com/c/jigsaw-toxic-comment-classification-challenge/overview).\n",
        "\n",
        "\n"
      ]
    },
    {
      "cell_type": "code",
      "metadata": {
        "id": "Bvh3ECwPcRI6",
        "colab_type": "code",
        "colab": {}
      },
      "source": [
        "# Uncomment the pip install commands to install required packages\n",
        "#!pip install bert-for-tf2\n",
        "#!pip install tensorflow_hub"
      ],
      "execution_count": 0,
      "outputs": []
    },
    {
      "cell_type": "code",
      "metadata": {
        "id": "dotZjUvecRI8",
        "colab_type": "code",
        "outputId": "86dc3722-570a-4161-a58c-551351191e94",
        "colab": {
          "base_uri": "https://localhost:8080/",
          "height": 51
        }
      },
      "source": [
        "# Import modules\n",
        "import pandas as pd\n",
        "import numpy as np\n",
        "import bert\n",
        "import tensorflow as tf\n",
        "import tensorflow_hub as hub\n",
        "from tensorflow.keras.models import  Model\n",
        "from tensorflow.keras.layers import Input, Dense, GlobalAveragePooling1D, Dropout\n",
        "from tensorflow.keras.optimizers import Adam\n",
        "from tensorflow.keras.callbacks import ModelCheckpoint, TensorBoard\n",
        "from tqdm import tqdm\n",
        "from collections import namedtuple\n",
        "import matplotlib.pyplot as plt\n",
        "\n",
        "print(\"TensorFlow Version:\",tf.__version__)\n",
        "print(\"Hub version: \",hub.__version__)\n"
      ],
      "execution_count": 4,
      "outputs": [
        {
          "output_type": "stream",
          "text": [
            "TensorFlow Version: 2.2.0\n",
            "Hub version:  0.8.0\n"
          ],
          "name": "stdout"
        }
      ]
    },
    {
      "cell_type": "markdown",
      "metadata": {
        "id": "-uH1zw2Pa13m",
        "colab_type": "text"
      },
      "source": [
        "## Data preprocessing"
      ]
    },
    {
      "cell_type": "code",
      "metadata": {
        "id": "W379xRxlMbtb",
        "colab_type": "code",
        "colab": {}
      },
      "source": [
        "# Load the train.csv into Pandas dataframe\n",
        "df=pd.read_csv('/content/drive/My Drive/data/train.csv')"
      ],
      "execution_count": 0,
      "outputs": []
    },
    {
      "cell_type": "code",
      "metadata": {
        "id": "lgSWxw7-QMNv",
        "colab_type": "code",
        "outputId": "172b3731-9ecf-4db8-8cc0-dc5256a3a799",
        "colab": {
          "base_uri": "https://localhost:8080/",
          "height": 119
        }
      },
      "source": [
        "# Print the column names and the total number of training examples\n",
        "print('Column names:\\n', df.columns.values)\n",
        "print(\"\\nTotal number of examples:\\n\", df.shape[0])"
      ],
      "execution_count": 8,
      "outputs": [
        {
          "output_type": "stream",
          "text": [
            "Column names:\n",
            " ['id' 'comment_text' 'toxic' 'severe_toxic' 'obscene' 'threat' 'insult'\n",
            " 'identity_hate']\n",
            "\n",
            "Total number of examples:\n",
            " 159571\n"
          ],
          "name": "stdout"
        }
      ]
    },
    {
      "cell_type": "code",
      "metadata": {
        "id": "h_uP_hOAR_ac",
        "colab_type": "code",
        "outputId": "8dd7a71c-071e-42ef-c3a0-c4c35c403a5f",
        "colab": {
          "base_uri": "https://localhost:8080/",
          "height": 170
        }
      },
      "source": [
        "# Identify missing values\n",
        "df.apply(lambda x: sum(x.isnull()), axis=0)"
      ],
      "execution_count": 9,
      "outputs": [
        {
          "output_type": "execute_result",
          "data": {
            "text/plain": [
              "id               0\n",
              "comment_text     0\n",
              "toxic            0\n",
              "severe_toxic     0\n",
              "obscene          0\n",
              "threat           0\n",
              "insult           0\n",
              "identity_hate    0\n",
              "dtype: int64"
            ]
          },
          "metadata": {
            "tags": []
          },
          "execution_count": 9
        }
      ]
    },
    {
      "cell_type": "code",
      "metadata": {
        "id": "AJKQ3KpHaYjk",
        "colab_type": "code",
        "colab": {}
      },
      "source": [
        "# Shuffle the dataset\n",
        "df = df.sample(frac=1)"
      ],
      "execution_count": 0,
      "outputs": []
    },
    {
      "cell_type": "code",
      "metadata": {
        "id": "OzZQoMZ6U6ft",
        "colab_type": "code",
        "outputId": "82e163ac-26fe-4659-b77d-5c7c36c99091",
        "colab": {
          "base_uri": "https://localhost:8080/",
          "height": 460
        }
      },
      "source": [
        "# Plot frequencies of toxic comments per class\n",
        "classes = df.iloc[:,2:]\n",
        "classes_freq = classes.sum(axis=0)\n",
        "print(classes_freq)\n",
        "classes_freq.plot(kind='bar')\n",
        "\n"
      ],
      "execution_count": 11,
      "outputs": [
        {
          "output_type": "stream",
          "text": [
            "toxic            15294\n",
            "severe_toxic      1595\n",
            "obscene           8449\n",
            "threat             478\n",
            "insult            7877\n",
            "identity_hate     1405\n",
            "dtype: int64\n"
          ],
          "name": "stdout"
        },
        {
          "output_type": "execute_result",
          "data": {
            "text/plain": [
              "<matplotlib.axes._subplots.AxesSubplot at 0x7f784142fcf8>"
            ]
          },
          "metadata": {
            "tags": []
          },
          "execution_count": 11
        },
        {
          "output_type": "display_data",
          "data": {
            "image/png": "[encoded data removed]",
            "text/plain": [
              "<Figure size 432x288 with 1 Axes>"
            ]
          },
          "metadata": {
            "tags": [],
            "needs_background": "light"
          }
        }
      ]
    },
    {
      "cell_type": "code",
      "metadata": {
        "id": "ESyS2xsQbQlm",
        "colab_type": "code",
        "colab": {}
      },
      "source": [
        "# https://androidkt.com/simple-text-classification-using-bert-in-tensorflow-keras-2-0/\n",
        "MAX_SEQ_LEN=128 # max sequence length\n",
        "def get_masks(tokens, max_seq_length):\n",
        "    \"\"\"Masks: 1 for real tokens and 0 for paddings\"\"\"\n",
        "    return [1]*len(tokens) + [0] * (max_seq_length - len(tokens))\n",
        " \n",
        "def get_segments(tokens, max_seq_length):\n",
        "    \"\"\"Segments: 0 for the first sequence, 1 for the second\"\"\"  \n",
        "    segments = []\n",
        "    current_segment_id = 0\n",
        "    for token in tokens:\n",
        "        segments.append(current_segment_id)\n",
        "        if token == \"[SEP]\":\n",
        "            current_segment_id = 1\n",
        "    return segments + [0] * (max_seq_length - len(tokens))\n",
        "\n",
        "def get_ids(tokens, tokenizer, max_seq_length):\n",
        "    \"\"\"Token ids from Tokenizer vocab\"\"\"\n",
        "    token_ids = tokenizer.convert_tokens_to_ids(tokens,)\n",
        "    input_ids = token_ids + [0] * (max_seq_length-len(token_ids))\n",
        "    return input_ids\n",
        "\n",
        "def create_single_input(sentence, tokenizer, MAX_LEN):\n",
        "  \"\"\"Create an input from a sentence\"\"\"\n",
        "  stokens = tokenizer.tokenize(sentence)\n",
        "  stokens = stokens[:MAX_LEN]\n",
        "  stokens = [\"[CLS]\"] + stokens + [\"[SEP]\"]\n",
        " \n",
        "  ids = get_ids(stokens, tokenizer, MAX_SEQ_LEN)\n",
        "  masks = get_masks(stokens, MAX_SEQ_LEN)\n",
        "  segments = get_segments(stokens, MAX_SEQ_LEN)\n",
        "\n",
        "  return ids, masks, segments\n",
        " \n",
        "def convert_sentences_to_features(sentences, tokenizer):\n",
        "  \"\"\"Convert sentences to features: input_ids, input_masks and input_segments\"\"\"\n",
        "  input_ids, input_masks, input_segments = [], [], []\n",
        " \n",
        "  for sentence in tqdm(sentences,position=0, leave=True):\n",
        "    ids,masks,segments=create_single_input(sentence,tokenizer,MAX_SEQ_LEN-2)\n",
        "    assert len(ids) == MAX_SEQ_LEN\n",
        "    assert len(masks) == MAX_SEQ_LEN\n",
        "    assert len(segments) == MAX_SEQ_LEN\n",
        " \n",
        "    input_ids.append(ids)\n",
        "    input_masks.append(masks)\n",
        "    input_segments.append(segments)\n",
        "\n",
        "  return [np.asarray(input_ids, dtype=np.int32), \n",
        "          np.asarray(input_masks, dtype=np.int32), \n",
        "          np.asarray(input_segments, dtype=np.int32)]\n",
        "\n",
        "def create_tonkenizer(bert_layer):\n",
        "    \n",
        "    vocab_file=bert_layer.resolved_object.vocab_file.asset_path.numpy()\n",
        "    do_lower_case=bert_layer.resolved_object.do_lower_case.numpy() \n",
        "    tokenizer=bert.bert_tokenization.FullTokenizer(vocab_file,do_lower_case)\n",
        "    return tokenizer\n"
      ],
      "execution_count": 0,
      "outputs": []
    },
    {
      "cell_type": "markdown",
      "metadata": {
        "id": "Xs6_p8VTgpoy",
        "colab_type": "text"
      },
      "source": [
        "## NLP model based on BERT"
      ]
    },
    {
      "cell_type": "code",
      "metadata": {
        "id": "C_mFZ2HRcRJB",
        "colab_type": "code",
        "outputId": "8ac002ce-aa8a-4cfc-b964-670a40cde3c8",
        "colab": {
          "base_uri": "https://localhost:8080/",
          "height": 425
        }
      },
      "source": [
        "def nlp_model(callable_object):\n",
        "    # Load saved BERT base model\n",
        "    bert_layer = hub.KerasLayer(handle=callable_object, trainable=True)  \n",
        "    # BERT model three inputs: ids, masks and segments\n",
        "    input_ids = Input(shape=(MAX_SEQ_LEN,), dtype=tf.int32, name=\"input_ids\")           \n",
        "    input_masks = Input(shape=(MAX_SEQ_LEN,), dtype=tf.int32, name=\"input_masks\")       \n",
        "    input_segments = Input(shape=(MAX_SEQ_LEN,), dtype=tf.int32, name=\"segment_ids\")\n",
        "    inputs = [input_ids, input_masks, input_segments]\n",
        "    # BERT model outputs\n",
        "    pooled_output, sequence_output = bert_layer(inputs)\n",
        "    # Add custom layers\n",
        "    x = GlobalAveragePooling1D()(sequence_output)\n",
        "    x = Dropout(0.2)(x)\n",
        "    outputs = Dense(6, activation=\"sigmoid\")(x)\n",
        "    # Construct a new model\n",
        "    model = Model(inputs=inputs, outputs=outputs)\n",
        "    return model\n",
        "\n",
        "model = nlp_model(\"https://tfhub.dev/tensorflow/bert_en_uncased_L-12_H-768_A-12/1\")\n",
        "model.summary()"
      ],
      "execution_count": 13,
      "outputs": [
        {
          "output_type": "stream",
          "text": [
            "Model: \"model\"\n",
            "__________________________________________________________________________________________________\n",
            "Layer (type)                    Output Shape         Param #     Connected to                     \n",
            "==================================================================================================\n",
            "input_ids (InputLayer)          [(None, 128)]        0                                            \n",
            "__________________________________________________________________________________________________\n",
            "input_masks (InputLayer)        [(None, 128)]        0                                            \n",
            "__________________________________________________________________________________________________\n",
            "segment_ids (InputLayer)        [(None, 128)]        0                                            \n",
            "__________________________________________________________________________________________________\n",
            "keras_layer (KerasLayer)        [(None, 768), (None, 109482241   input_ids[0][0]                  \n",
            "                                                                 input_masks[0][0]                \n",
            "                                                                 segment_ids[0][0]                \n",
            "__________________________________________________________________________________________________\n",
            "global_average_pooling1d (Globa (None, 768)          0           keras_layer[0][1]                \n",
            "__________________________________________________________________________________________________\n",
            "dropout (Dropout)               (None, 768)          0           global_average_pooling1d[0][0]   \n",
            "__________________________________________________________________________________________________\n",
            "dense (Dense)                   (None, 6)            4614        dropout[0][0]                    \n",
            "==================================================================================================\n",
            "Total params: 109,486,855\n",
            "Trainable params: 109,486,854\n",
            "Non-trainable params: 1\n",
            "__________________________________________________________________________________________________\n"
          ],
          "name": "stdout"
        }
      ]
    },
    {
      "cell_type": "markdown",
      "metadata": {
        "id": "ViqJURL5qcZJ",
        "colab_type": "text"
      },
      "source": [
        "## Model training"
      ]
    },
    {
      "cell_type": "code",
      "metadata": {
        "id": "XL5LaS68Qo8G",
        "colab_type": "code",
        "outputId": "719bfcdc-187f-446c-dccc-c29a51b872b9",
        "colab": {
          "base_uri": "https://localhost:8080/",
          "height": 34
        }
      },
      "source": [
        "# Create training examples\n",
        "tokenizer = create_tonkenizer(model.layers[3])\n",
        "X_train = convert_sentences_to_features(df[\"comment_text\"].values, tokenizer)\n",
        "y_train = classes.values"
      ],
      "execution_count": 14,
      "outputs": [
        {
          "output_type": "stream",
          "text": [
            "100%|██████████| 159571/159571 [03:12<00:00, 830.15it/s]\n"
          ],
          "name": "stderr"
        }
      ]
    },
    {
      "cell_type": "code",
      "metadata": {
        "id": "IzSF2HJi5XsY",
        "colab_type": "code",
        "outputId": "7c8a10f8-ee06-452c-830f-e0f748c695b1",
        "colab": {
          "base_uri": "https://localhost:8080/",
          "height": 119
        }
      },
      "source": [
        "# Train the model\n",
        "epochs=3\n",
        "batch_size=32\n",
        "\n",
        "opt = Adam(learning_rate=0.01, decay=1e-5)\n",
        "model.compile(optimizer=opt, \n",
        "              loss='binary_crossentropy', \n",
        "              metrics=['accuracy'])\n",
        "\n",
        "history = model.fit(X_train, y_train,\n",
        "                    epochs=epochs,\n",
        "                    batch_size=batch_size,\n",
        "                    validation_split=0.2,\n",
        "                    shuffle=True, \n",
        "                    verbose = 1)\n",
        "model.save('nlp_model.h5') "
      ],
      "execution_count": 15,
      "outputs": [
        {
          "output_type": "stream",
          "text": [
            "Epoch 1/3\n",
            "3990/3990 [==============================] - 1921s 481ms/step - loss: 0.1488 - accuracy: 0.9426 - val_loss: 0.1451 - val_accuracy: 0.9948\n",
            "Epoch 2/3\n",
            "3990/3990 [==============================] - 1920s 481ms/step - loss: 0.1441 - accuracy: 0.9880 - val_loss: 0.1390 - val_accuracy: 0.9948\n",
            "Epoch 3/3\n",
            "3990/3990 [==============================] - 1919s 481ms/step - loss: 0.1439 - accuracy: 0.9909 - val_loss: 0.1390 - val_accuracy: 0.9948\n"
          ],
          "name": "stdout"
        }
      ]
    },
    {
      "cell_type": "code",
      "metadata": {
        "id": "1AS1Jzx9Xz7S",
        "colab_type": "code",
        "colab": {
          "base_uri": "https://localhost:8080/",
          "height": 279
        },
        "outputId": "74a1a495-57c6-40bb-90ee-4fb59478e28b"
      },
      "source": [
        "x = np.arange(1,4)\n",
        "plt.xlabel('Epochs')\n",
        "plt.plot(x, history.history[\"loss\"], linewidth=2., label=\"train_loss\")\n",
        "plt.plot(x, history.history[\"val_loss\"], linewidth=2., label=\"val_loss\")\n",
        "plt.plot(x, history.history[\"accuracy\"], linewidth=2., label=\"train_accuracy\")\n",
        "plt.plot(x, history.history[\"val_accuracy\"], linewidth=2., label=\"val_accuracy\")\n",
        "plt.legend()\n",
        "plt.show()"
      ],
      "execution_count": 24,
      "outputs": [
        {
          "output_type": "display_data",
          "data": {
            "image/png": "[encoded data removed]",
            "text/plain": [
              "<Figure size 432x288 with 1 Axes>"
            ]
          },
          "metadata": {
            "tags": [],
            "needs_background": "light"
          }
        }
      ]
    }
  ]
}