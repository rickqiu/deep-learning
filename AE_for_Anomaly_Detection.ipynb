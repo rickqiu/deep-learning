{
  "nbformat": 4,
  "nbformat_minor": 0,
  "metadata": {
    "kernelspec": {
      "display_name": "Python 3",
      "language": "python",
      "name": "python3"
    },
    "language_info": {
      "codemirror_mode": {
        "name": "ipython",
        "version": 3
      },
      "file_extension": ".py",
      "mimetype": "text/x-python",
      "name": "python",
      "nbconvert_exporter": "python",
      "pygments_lexer": "ipython3",
      "version": "3.7.7"
    },
    "colab": {
      "name": "AE_for_Anomaly_Detection.ipynb",
      "provenance": [],
      "toc_visible": true,
      "machine_shape": "hm",
      "include_colab_link": true
    },
    "accelerator": "GPU"
  },
  "cells": [
    {
      "cell_type": "markdown",
      "metadata": {
        "id": "view-in-github",
        "colab_type": "text"
      },
      "source": [
        "<a href=\"https://colab.research.google.com/github/rickqiu/deep-learning/blob/master/AE_for_Anomaly_Detection.ipynb\" target=\"_parent\"><img src=\"https://colab.research.google.com/assets/colab-badge.svg\" alt=\"Open In Colab\"/></a>"
      ]
    },
    {
      "cell_type": "markdown",
      "metadata": {
        "id": "sAMHDWk0NbHX"
      },
      "source": [
        "# Autoencoder (AE) for Anomaly Detection\n",
        "\n",
        "**by Rick Qiu in May, 2020**"
      ]
    },
    {
      "cell_type": "code",
      "metadata": {
        "id": "ZPl2K8mONbHe",
        "colab": {
          "base_uri": "https://localhost:8080/"
        },
        "outputId": "0631b0cf-4b03-4916-ce39-2f792ac0f754"
      },
      "source": [
        "# Import Python libraries\n",
        "import sys\n",
        "import random\n",
        "import numpy as np\n",
        "from sklearn.preprocessing import MinMaxScaler\n",
        "# Tensorflow\n",
        "import tensorflow as tf\n",
        "from tensorflow import keras\n",
        "from tensorflow.keras.optimizers import Adam\n",
        "from tensorflow.keras.models import Model, load_model\n",
        "from tensorflow.keras.layers import Input, Dense\n",
        "from tensorflow.keras.callbacks import ModelCheckpoint, TensorBoard\n",
        "from tensorflow.keras.utils import plot_model\n",
        "from tensorflow.keras.preprocessing.sequence import pad_sequences\n",
        "import matplotlib.pyplot as plt\n",
        "%matplotlib inline\n",
        "print(\"Python version: \", sys.version)\n",
        "print(\"TensorFlow version:\", tf.__version__)"
      ],
      "execution_count": 1,
      "outputs": [
        {
          "output_type": "stream",
          "text": [
            "Python version:  3.7.10 (default, Feb 20 2021, 21:17:23) \n",
            "[GCC 7.5.0]\n",
            "TensorFlow version: 2.4.1\n"
          ],
          "name": "stdout"
        }
      ]
    },
    {
      "cell_type": "markdown",
      "metadata": {
        "id": "hkut2yMaNbHi"
      },
      "source": [
        "### Data generation"
      ]
    },
    {
      "cell_type": "code",
      "metadata": {
        "id": "Lp4N7pltNbHi",
        "colab": {
          "base_uri": "https://localhost:8080/"
        },
        "outputId": "8df135ca-1565-4523-a2f3-fc03f026cdf9"
      },
      "source": [
        "# We refer alphabetic character sequence generation to Alon Agmon 2020\n",
        "# https://github.com/a-agmon/experiments/blob/master/Sequence_Anomaly_Detection-NN.ipynb\n",
        "def get_random_string():\n",
        "    # returns a string of the following format: \n",
        "    #[4 letters A-F][1 digit 0-2][3 letters QWOPZXML]\n",
        "    first_letters =  'ABCDEF'\n",
        "    second_numbers = '120'\n",
        "    last_letters = 'QWOPZXML'\n",
        "    str1 = ''.join(random.choice(first_letters) for i in range(4))\n",
        "    str2 = random.choice(second_numbers)\n",
        "    str3 = ''.join(random.choice(last_letters) for i in range(3))\n",
        "    return str1+str2+str3\n",
        "    \n",
        "print(get_random_string())"
      ],
      "execution_count": 2,
      "outputs": [
        {
          "output_type": "stream",
          "text": [
            "CCAB1XOP\n"
          ],
          "name": "stdout"
        }
      ]
    },
    {
      "cell_type": "code",
      "metadata": {
        "id": "NcPj9ilyNbHl"
      },
      "source": [
        "def generate_data():\n",
        "    normals = 50000 - 10\n",
        "    random_sequences = [get_random_string() for i in range(normals)]\n",
        "    # add some anomalies to our list\n",
        "    random_sequences.extend(['XYDC2DCA', 'TXSX1ABC','RNIU4XRE','AABDXUEI','SDRAC5RF',\n",
        "                             'YXDC2DCB', 'XTSX1ABC','RNUI4XRE','TABDXAID','SERACDRF'])\n",
        "    return random_sequences"
      ],
      "execution_count": 3,
      "outputs": []
    },
    {
      "cell_type": "code",
      "metadata": {
        "id": "D5NAkOkSNbHr",
        "colab": {
          "base_uri": "https://localhost:8080/"
        },
        "outputId": "eed5845e-7813-4929-ce70-d2400cc72f3f"
      },
      "source": [
        "data = generate_data()\n",
        "print(data[0:5])"
      ],
      "execution_count": 4,
      "outputs": [
        {
          "output_type": "stream",
          "text": [
            "['EAAF1ZMP', 'BEAC2XWM', 'DECE2QXO', 'FEFD1PMW', 'FEEB0QXX']\n"
          ],
          "name": "stdout"
        }
      ]
    },
    {
      "cell_type": "markdown",
      "metadata": {
        "id": "nDHDG03bNbHv"
      },
      "source": [
        "### Data Preprocessing"
      ]
    },
    {
      "cell_type": "code",
      "metadata": {
        "id": "pP5AqjqaNbHw"
      },
      "source": [
        "# We refer sequence encoding and decoding to Alon Agmon 2020\n",
        "# https://github.com/a-agmon/experiments/blob/master/Sequence_Anomaly_Detection-NN.ipynb\n",
        "#Build the char index that we will use to encode seqs to numbers\n",
        "char_index = '0abcdefghijklmnopqrstuvwxyz'\n",
        "char_index +='ABCDEFGHIJKLMNOPQRSTUVWXYZ'\n",
        "char_index += '123456789'\n",
        "char_index += '().,-/+=&$?@#!*:;_[]|%⸏{}\\\"\\'' + ' ' +'\\\\'\n",
        "\n",
        "char_to_int = dict((c, i) for i, c in enumerate(char_index))\n",
        "int_to_char = dict((i, c) for i, c in enumerate(char_index))\n",
        "\n",
        "#function that convert a char seqs to numbers seqs \n",
        "#(it does a little more but lets leave it for now)\n",
        "def encode_sequence_list(seqs, feat_n=0):\n",
        "    encoded_seqs = []\n",
        "    for seq in seqs:\n",
        "        encoded_seq = [char_to_int[c] for c in seq]\n",
        "        encoded_seqs.append(encoded_seq)\n",
        "    if(feat_n > 0):\n",
        "        encoded_seqs.append(np.zeros(feat_n))\n",
        "    return pad_sequences(encoded_seqs, padding='post')\n",
        "\n",
        "def decode_sequence_list(seqs):\n",
        "    decoded_seqs = []\n",
        "    for seq in seqs:\n",
        "        decoded_seq = [int_to_char[i] for i in seq]\n",
        "        decoded_seqs.append(decoded_seq)\n",
        "    return decoded_seqs"
      ],
      "execution_count": 5,
      "outputs": []
    },
    {
      "cell_type": "code",
      "metadata": {
        "id": "R4_t7WyxNbHz",
        "colab": {
          "base_uri": "https://localhost:8080/"
        },
        "outputId": "8b4efdcf-b2ce-4041-940b-11d001753faa"
      },
      "source": [
        "# encode each string seq to an integer array [[1],[5],[67]], [[45],[76],[7]\n",
        "encoded_seqs = encode_sequence_list(data)\n",
        "# mix everything up\n",
        "np.random.shuffle(encoded_seqs)\n",
        "print(encoded_seqs.shape)\n",
        "print(encoded_seqs[10])"
      ],
      "execution_count": 6,
      "outputs": [
        {
          "output_type": "stream",
          "text": [
            "(50000, 8)\n",
            "[30 31 27 29 53 42 39 39]\n"
          ],
          "name": "stdout"
        }
      ]
    },
    {
      "cell_type": "code",
      "metadata": {
        "id": "L5Q34Gh2NbH3"
      },
      "source": [
        "# split dataset to train/test (80:20)\n",
        "X_train = encoded_seqs[:40000]\n",
        "X_test = encoded_seqs[40000:]\n",
        "\n",
        "# scale the data to a range [0,1]\n",
        "scaler = MinMaxScaler()\n",
        "scaler = scaler.fit(X_train)\n",
        "scaled_train  = scaler.transform(X_train)\n",
        "scaled_test = scaler.transform(X_test)"
      ],
      "execution_count": 7,
      "outputs": []
    },
    {
      "cell_type": "markdown",
      "metadata": {
        "id": "8fCKc5_yNbH7"
      },
      "source": [
        "### Autoencoder Model"
      ]
    },
    {
      "cell_type": "code",
      "metadata": {
        "id": "W-4KAS8DNbH7"
      },
      "source": [
        "# Define the autoencoder\n",
        "def autoencoder_model():\n",
        "    # Encoder\n",
        "    input_data = Input(shape=(8,))\n",
        "    encoder = Dense(units=5,activation='relu')(input_data)\n",
        "    # Bottleneck\n",
        "    latent_output = Dense(units=2,activation='relu')(encoder)\n",
        "    # Decoder\n",
        "    decoder = Dense(units=5,activation='relu')(latent_output)\n",
        "    decoder = Dense(units=8,activation='linear')(decoder)\n",
        "    # Create Autoencoder model\n",
        "    autoencoder = Model(input_data,decoder)\n",
        "    return autoencoder"
      ],
      "execution_count": 8,
      "outputs": []
    },
    {
      "cell_type": "code",
      "metadata": {
        "id": "74lVdHyANbH-"
      },
      "source": [
        "# Define a function which plots training loss and validation loss across the different epochs.\n",
        "def plot_loss(history):\n",
        "    plt.xlabel('Epochs')\n",
        "    plt.ylabel('MSE')\n",
        "    # Plot train loss\n",
        "    plt.plot(history.history[\"loss\"], linewidth=2., label=\"train_loss\")\n",
        "    # Plot val_loss\n",
        "    plt.plot(history.history[\"val_loss\"],linewidth=2., label=\"val_loss\")\n",
        "    plt.legend()\n",
        "    plt.show()"
      ],
      "execution_count": 9,
      "outputs": []
    },
    {
      "cell_type": "code",
      "metadata": {
        "id": "eGtLmpeeNbIA",
        "colab": {
          "base_uri": "https://localhost:8080/",
          "height": 884
        },
        "outputId": "6b7e06ed-c7cd-4009-d2e9-87628a7bae23"
      },
      "source": [
        "# Instantiate and compile the model\n",
        "autoencoder = autoencoder_model()\n",
        "opt = Adam(learning_rate=0.001, decay=1e-5)\n",
        "autoencoder.compile(optimizer=opt,loss='mean_squared_error')\n",
        "print(autoencoder.summary())\n",
        "plot_model(autoencoder, to_file='autoencoder.png', show_shapes=True)"
      ],
      "execution_count": 16,
      "outputs": [
        {
          "output_type": "stream",
          "text": [
            "Model: \"model_1\"\n",
            "_________________________________________________________________\n",
            "Layer (type)                 Output Shape              Param #   \n",
            "=================================================================\n",
            "input_2 (InputLayer)         [(None, 8)]               0         \n",
            "_________________________________________________________________\n",
            "dense_4 (Dense)              (None, 5)                 45        \n",
            "_________________________________________________________________\n",
            "dense_5 (Dense)              (None, 2)                 12        \n",
            "_________________________________________________________________\n",
            "dense_6 (Dense)              (None, 5)                 15        \n",
            "_________________________________________________________________\n",
            "dense_7 (Dense)              (None, 8)                 48        \n",
            "=================================================================\n",
            "Total params: 120\n",
            "Trainable params: 120\n",
            "Non-trainable params: 0\n",
            "_________________________________________________________________\n",
            "None\n"
          ],
          "name": "stdout"
        },
        {
          "output_type": "execute_result",
          "data": {
            "image/png": "[encoded data removed]",
            "text/plain": [
              "<IPython.core.display.Image object>"
            ]
          },
          "metadata": {
            "tags": []
          },
          "execution_count": 16
        }
      ]
    },
    {
      "cell_type": "markdown",
      "metadata": {
        "id": "ZVgnUZIdNbIF"
      },
      "source": [
        "### Model Training"
      ]
    },
    {
      "cell_type": "code",
      "metadata": {
        "id": "iVJADaxbNbIF",
        "colab": {
          "base_uri": "https://localhost:8080/"
        },
        "outputId": "d50ed030-4a22-494f-fd2f-3f1026b067b6"
      },
      "source": [
        "epochs = 200\n",
        "batch_size = 128\n",
        "\n",
        "\n",
        "checkpointer = ModelCheckpoint(filepath=\"ae_model.h5\",\n",
        "                               verbose=0,\n",
        "                               save_best_only=True)\n",
        "\n",
        "tensorboard = TensorBoard(log_dir='logs',\n",
        "                          histogram_freq=0,\n",
        "                          write_graph=True,\n",
        "                          write_images=True)\n",
        "\n",
        "history = autoencoder.fit(scaled_train, scaled_train,\n",
        "                epochs=epochs,\n",
        "                batch_size=batch_size,\n",
        "                shuffle=True,\n",
        "                verbose = 1,\n",
        "                validation_data=(scaled_test, scaled_test),\n",
        "                callbacks=[checkpointer, tensorboard])"
      ],
      "execution_count": 17,
      "outputs": [
        {
          "output_type": "stream",
          "text": [
            "Epoch 1/200\n",
            "313/313 [==============================] - 1s 4ms/step - loss: 0.2078 - val_loss: 0.1094\n",
            "Epoch 2/200\n",
            "313/313 [==============================] - 1s 2ms/step - loss: 0.0926 - val_loss: 0.0587\n",
            "Epoch 3/200\n",
            "313/313 [==============================] - 1s 2ms/step - loss: 0.0540 - val_loss: 0.0458\n",
            "Epoch 4/200\n",
            "313/313 [==============================] - 1s 2ms/step - loss: 0.0448 - val_loss: 0.0438\n",
            "Epoch 5/200\n",
            "313/313 [==============================] - 1s 2ms/step - loss: 0.0432 - val_loss: 0.0436\n",
            "Epoch 6/200\n",
            "313/313 [==============================] - 1s 2ms/step - loss: 0.0431 - val_loss: 0.0436\n",
            "Epoch 7/200\n",
            "313/313 [==============================] - 1s 2ms/step - loss: 0.0432 - val_loss: 0.0436\n",
            "Epoch 8/200\n",
            "313/313 [==============================] - 1s 2ms/step - loss: 0.0432 - val_loss: 0.0436\n",
            "Epoch 9/200\n",
            "313/313 [==============================] - 1s 2ms/step - loss: 0.0432 - val_loss: 0.0436\n",
            "Epoch 10/200\n",
            "313/313 [==============================] - 1s 2ms/step - loss: 0.0433 - val_loss: 0.0436\n",
            "Epoch 11/200\n",
            "313/313 [==============================] - 1s 2ms/step - loss: 0.0432 - val_loss: 0.0436\n",
            "Epoch 12/200\n",
            "313/313 [==============================] - 1s 2ms/step - loss: 0.0432 - val_loss: 0.0436\n",
            "Epoch 13/200\n",
            "313/313 [==============================] - 1s 2ms/step - loss: 0.0432 - val_loss: 0.0436\n",
            "Epoch 14/200\n",
            "313/313 [==============================] - 1s 2ms/step - loss: 0.0433 - val_loss: 0.0436\n",
            "Epoch 15/200\n",
            "313/313 [==============================] - 1s 2ms/step - loss: 0.0430 - val_loss: 0.0436\n",
            "Epoch 16/200\n",
            "313/313 [==============================] - 1s 2ms/step - loss: 0.0431 - val_loss: 0.0436\n",
            "Epoch 17/200\n",
            "313/313 [==============================] - 1s 2ms/step - loss: 0.0432 - val_loss: 0.0436\n",
            "Epoch 18/200\n",
            "313/313 [==============================] - 1s 2ms/step - loss: 0.0433 - val_loss: 0.0436\n",
            "Epoch 19/200\n",
            "313/313 [==============================] - 1s 2ms/step - loss: 0.0433 - val_loss: 0.0436\n",
            "Epoch 20/200\n",
            "313/313 [==============================] - 1s 2ms/step - loss: 0.0432 - val_loss: 0.0436\n",
            "Epoch 21/200\n",
            "313/313 [==============================] - 1s 2ms/step - loss: 0.0432 - val_loss: 0.0436\n",
            "Epoch 22/200\n",
            "313/313 [==============================] - 1s 2ms/step - loss: 0.0432 - val_loss: 0.0436\n",
            "Epoch 23/200\n",
            "313/313 [==============================] - 1s 2ms/step - loss: 0.0431 - val_loss: 0.0436\n",
            "Epoch 24/200\n",
            "313/313 [==============================] - 1s 2ms/step - loss: 0.0431 - val_loss: 0.0436\n",
            "Epoch 25/200\n",
            "313/313 [==============================] - 1s 2ms/step - loss: 0.0432 - val_loss: 0.0436\n",
            "Epoch 26/200\n",
            "313/313 [==============================] - 1s 2ms/step - loss: 0.0433 - val_loss: 0.0436\n",
            "Epoch 27/200\n",
            "313/313 [==============================] - 1s 2ms/step - loss: 0.0432 - val_loss: 0.0436\n",
            "Epoch 28/200\n",
            "313/313 [==============================] - 1s 2ms/step - loss: 0.0432 - val_loss: 0.0436\n",
            "Epoch 29/200\n",
            "313/313 [==============================] - 1s 2ms/step - loss: 0.0431 - val_loss: 0.0436\n",
            "Epoch 30/200\n",
            "313/313 [==============================] - 1s 2ms/step - loss: 0.0431 - val_loss: 0.0436\n",
            "Epoch 31/200\n",
            "313/313 [==============================] - 1s 2ms/step - loss: 0.0434 - val_loss: 0.0436\n",
            "Epoch 32/200\n",
            "313/313 [==============================] - 1s 2ms/step - loss: 0.0431 - val_loss: 0.0436\n",
            "Epoch 33/200\n",
            "313/313 [==============================] - 1s 2ms/step - loss: 0.0432 - val_loss: 0.0436\n",
            "Epoch 34/200\n",
            "313/313 [==============================] - 1s 2ms/step - loss: 0.0431 - val_loss: 0.0436\n",
            "Epoch 35/200\n",
            "313/313 [==============================] - 1s 2ms/step - loss: 0.0431 - val_loss: 0.0436\n",
            "Epoch 36/200\n",
            "313/313 [==============================] - 1s 2ms/step - loss: 0.0432 - val_loss: 0.0436\n",
            "Epoch 37/200\n",
            "313/313 [==============================] - 1s 2ms/step - loss: 0.0431 - val_loss: 0.0436\n",
            "Epoch 38/200\n",
            "313/313 [==============================] - 1s 2ms/step - loss: 0.0430 - val_loss: 0.0436\n",
            "Epoch 39/200\n",
            "313/313 [==============================] - 1s 2ms/step - loss: 0.0431 - val_loss: 0.0436\n",
            "Epoch 40/200\n",
            "313/313 [==============================] - 1s 2ms/step - loss: 0.0433 - val_loss: 0.0436\n",
            "Epoch 41/200\n",
            "313/313 [==============================] - 1s 2ms/step - loss: 0.0432 - val_loss: 0.0436\n",
            "Epoch 42/200\n",
            "313/313 [==============================] - 1s 2ms/step - loss: 0.0432 - val_loss: 0.0436\n",
            "Epoch 43/200\n",
            "313/313 [==============================] - 1s 2ms/step - loss: 0.0431 - val_loss: 0.0436\n",
            "Epoch 44/200\n",
            "313/313 [==============================] - 1s 2ms/step - loss: 0.0431 - val_loss: 0.0436\n",
            "Epoch 45/200\n",
            "313/313 [==============================] - 1s 2ms/step - loss: 0.0431 - val_loss: 0.0436\n",
            "Epoch 46/200\n",
            "313/313 [==============================] - 1s 2ms/step - loss: 0.0431 - val_loss: 0.0436\n",
            "Epoch 47/200\n",
            "313/313 [==============================] - 1s 2ms/step - loss: 0.0432 - val_loss: 0.0436\n",
            "Epoch 48/200\n",
            "313/313 [==============================] - 1s 2ms/step - loss: 0.0431 - val_loss: 0.0436\n",
            "Epoch 49/200\n",
            "313/313 [==============================] - 1s 2ms/step - loss: 0.0430 - val_loss: 0.0436\n",
            "Epoch 50/200\n",
            "313/313 [==============================] - 1s 2ms/step - loss: 0.0433 - val_loss: 0.0436\n",
            "Epoch 51/200\n",
            "313/313 [==============================] - 1s 2ms/step - loss: 0.0431 - val_loss: 0.0436\n",
            "Epoch 52/200\n",
            "313/313 [==============================] - 1s 2ms/step - loss: 0.0434 - val_loss: 0.0436\n",
            "Epoch 53/200\n",
            "313/313 [==============================] - 1s 2ms/step - loss: 0.0432 - val_loss: 0.0436\n",
            "Epoch 54/200\n",
            "313/313 [==============================] - 1s 2ms/step - loss: 0.0433 - val_loss: 0.0436\n",
            "Epoch 55/200\n",
            "313/313 [==============================] - 1s 2ms/step - loss: 0.0431 - val_loss: 0.0436\n",
            "Epoch 56/200\n",
            "313/313 [==============================] - 1s 2ms/step - loss: 0.0430 - val_loss: 0.0436\n",
            "Epoch 57/200\n",
            "313/313 [==============================] - 1s 2ms/step - loss: 0.0433 - val_loss: 0.0436\n",
            "Epoch 58/200\n",
            "313/313 [==============================] - 1s 2ms/step - loss: 0.0433 - val_loss: 0.0436\n",
            "Epoch 59/200\n",
            "313/313 [==============================] - 1s 2ms/step - loss: 0.0431 - val_loss: 0.0436\n",
            "Epoch 60/200\n",
            "313/313 [==============================] - 1s 2ms/step - loss: 0.0432 - val_loss: 0.0436\n",
            "Epoch 61/200\n",
            "313/313 [==============================] - 1s 2ms/step - loss: 0.0432 - val_loss: 0.0436\n",
            "Epoch 62/200\n",
            "313/313 [==============================] - 1s 2ms/step - loss: 0.0431 - val_loss: 0.0436\n",
            "Epoch 63/200\n",
            "313/313 [==============================] - 1s 2ms/step - loss: 0.0431 - val_loss: 0.0436\n",
            "Epoch 64/200\n",
            "313/313 [==============================] - 1s 2ms/step - loss: 0.0433 - val_loss: 0.0436\n",
            "Epoch 65/200\n",
            "313/313 [==============================] - 1s 2ms/step - loss: 0.0433 - val_loss: 0.0436\n",
            "Epoch 66/200\n",
            "313/313 [==============================] - 1s 2ms/step - loss: 0.0432 - val_loss: 0.0436\n",
            "Epoch 67/200\n",
            "313/313 [==============================] - 1s 2ms/step - loss: 0.0431 - val_loss: 0.0436\n",
            "Epoch 68/200\n",
            "313/313 [==============================] - 1s 2ms/step - loss: 0.0432 - val_loss: 0.0436\n",
            "Epoch 69/200\n",
            "313/313 [==============================] - 1s 2ms/step - loss: 0.0432 - val_loss: 0.0436\n",
            "Epoch 70/200\n",
            "313/313 [==============================] - 1s 2ms/step - loss: 0.0434 - val_loss: 0.0436\n",
            "Epoch 71/200\n",
            "313/313 [==============================] - 1s 2ms/step - loss: 0.0433 - val_loss: 0.0436\n",
            "Epoch 72/200\n",
            "313/313 [==============================] - 1s 2ms/step - loss: 0.0430 - val_loss: 0.0436\n",
            "Epoch 73/200\n",
            "313/313 [==============================] - 1s 2ms/step - loss: 0.0430 - val_loss: 0.0436\n",
            "Epoch 74/200\n",
            "313/313 [==============================] - 1s 2ms/step - loss: 0.0430 - val_loss: 0.0436\n",
            "Epoch 75/200\n",
            "313/313 [==============================] - 1s 2ms/step - loss: 0.0433 - val_loss: 0.0436\n",
            "Epoch 76/200\n",
            "313/313 [==============================] - 1s 2ms/step - loss: 0.0432 - val_loss: 0.0436\n",
            "Epoch 77/200\n",
            "313/313 [==============================] - 1s 2ms/step - loss: 0.0433 - val_loss: 0.0436\n",
            "Epoch 78/200\n",
            "313/313 [==============================] - 1s 2ms/step - loss: 0.0432 - val_loss: 0.0436\n",
            "Epoch 79/200\n",
            "313/313 [==============================] - 1s 2ms/step - loss: 0.0432 - val_loss: 0.0436\n",
            "Epoch 80/200\n",
            "313/313 [==============================] - 1s 2ms/step - loss: 0.0432 - val_loss: 0.0436\n",
            "Epoch 81/200\n",
            "313/313 [==============================] - 1s 2ms/step - loss: 0.0433 - val_loss: 0.0436\n",
            "Epoch 82/200\n",
            "313/313 [==============================] - 1s 2ms/step - loss: 0.0430 - val_loss: 0.0436\n",
            "Epoch 83/200\n",
            "313/313 [==============================] - 1s 2ms/step - loss: 0.0431 - val_loss: 0.0436\n",
            "Epoch 84/200\n",
            "313/313 [==============================] - 1s 2ms/step - loss: 0.0432 - val_loss: 0.0436\n",
            "Epoch 85/200\n",
            "313/313 [==============================] - 1s 2ms/step - loss: 0.0432 - val_loss: 0.0436\n",
            "Epoch 86/200\n",
            "313/313 [==============================] - 1s 2ms/step - loss: 0.0433 - val_loss: 0.0436\n",
            "Epoch 87/200\n",
            "313/313 [==============================] - 1s 2ms/step - loss: 0.0431 - val_loss: 0.0436\n",
            "Epoch 88/200\n",
            "313/313 [==============================] - 1s 2ms/step - loss: 0.0432 - val_loss: 0.0436\n",
            "Epoch 89/200\n",
            "313/313 [==============================] - 1s 2ms/step - loss: 0.0433 - val_loss: 0.0436\n",
            "Epoch 90/200\n",
            "313/313 [==============================] - 1s 2ms/step - loss: 0.0430 - val_loss: 0.0436\n",
            "Epoch 91/200\n",
            "313/313 [==============================] - 1s 2ms/step - loss: 0.0432 - val_loss: 0.0436\n",
            "Epoch 92/200\n",
            "313/313 [==============================] - 1s 2ms/step - loss: 0.0431 - val_loss: 0.0436\n",
            "Epoch 93/200\n",
            "313/313 [==============================] - 1s 2ms/step - loss: 0.0432 - val_loss: 0.0436\n",
            "Epoch 94/200\n",
            "313/313 [==============================] - 1s 2ms/step - loss: 0.0432 - val_loss: 0.0436\n",
            "Epoch 95/200\n",
            "313/313 [==============================] - 1s 2ms/step - loss: 0.0431 - val_loss: 0.0436\n",
            "Epoch 96/200\n",
            "313/313 [==============================] - 1s 2ms/step - loss: 0.0434 - val_loss: 0.0436\n",
            "Epoch 97/200\n",
            "313/313 [==============================] - 1s 2ms/step - loss: 0.0431 - val_loss: 0.0436\n",
            "Epoch 98/200\n",
            "313/313 [==============================] - 1s 2ms/step - loss: 0.0432 - val_loss: 0.0436\n",
            "Epoch 99/200\n",
            "313/313 [==============================] - 1s 2ms/step - loss: 0.0430 - val_loss: 0.0436\n",
            "Epoch 100/200\n",
            "313/313 [==============================] - 1s 2ms/step - loss: 0.0432 - val_loss: 0.0436\n",
            "Epoch 101/200\n",
            "313/313 [==============================] - 1s 2ms/step - loss: 0.0433 - val_loss: 0.0436\n",
            "Epoch 102/200\n",
            "313/313 [==============================] - 1s 2ms/step - loss: 0.0433 - val_loss: 0.0436\n",
            "Epoch 103/200\n",
            "313/313 [==============================] - 1s 2ms/step - loss: 0.0432 - val_loss: 0.0436\n",
            "Epoch 104/200\n",
            "313/313 [==============================] - 1s 2ms/step - loss: 0.0432 - val_loss: 0.0436\n",
            "Epoch 105/200\n",
            "313/313 [==============================] - 1s 2ms/step - loss: 0.0433 - val_loss: 0.0436\n",
            "Epoch 106/200\n",
            "313/313 [==============================] - 1s 2ms/step - loss: 0.0431 - val_loss: 0.0436\n",
            "Epoch 107/200\n",
            "313/313 [==============================] - 1s 2ms/step - loss: 0.0431 - val_loss: 0.0436\n",
            "Epoch 108/200\n",
            "313/313 [==============================] - 1s 2ms/step - loss: 0.0431 - val_loss: 0.0436\n",
            "Epoch 109/200\n",
            "313/313 [==============================] - 1s 2ms/step - loss: 0.0431 - val_loss: 0.0436\n",
            "Epoch 110/200\n",
            "313/313 [==============================] - 1s 2ms/step - loss: 0.0432 - val_loss: 0.0436\n",
            "Epoch 111/200\n",
            "313/313 [==============================] - 1s 2ms/step - loss: 0.0433 - val_loss: 0.0436\n",
            "Epoch 112/200\n",
            "313/313 [==============================] - 1s 2ms/step - loss: 0.0431 - val_loss: 0.0436\n",
            "Epoch 113/200\n",
            "313/313 [==============================] - 1s 2ms/step - loss: 0.0433 - val_loss: 0.0436\n",
            "Epoch 114/200\n",
            "313/313 [==============================] - 1s 2ms/step - loss: 0.0432 - val_loss: 0.0436\n",
            "Epoch 115/200\n",
            "313/313 [==============================] - 1s 2ms/step - loss: 0.0429 - val_loss: 0.0436\n",
            "Epoch 116/200\n",
            "313/313 [==============================] - 1s 2ms/step - loss: 0.0431 - val_loss: 0.0436\n",
            "Epoch 117/200\n",
            "313/313 [==============================] - 1s 2ms/step - loss: 0.0430 - val_loss: 0.0436\n",
            "Epoch 118/200\n",
            "313/313 [==============================] - 1s 2ms/step - loss: 0.0432 - val_loss: 0.0436\n",
            "Epoch 119/200\n",
            "313/313 [==============================] - 1s 2ms/step - loss: 0.0431 - val_loss: 0.0436\n",
            "Epoch 120/200\n",
            "313/313 [==============================] - 1s 2ms/step - loss: 0.0431 - val_loss: 0.0436\n",
            "Epoch 121/200\n",
            "313/313 [==============================] - 1s 2ms/step - loss: 0.0432 - val_loss: 0.0436\n",
            "Epoch 122/200\n",
            "313/313 [==============================] - 1s 2ms/step - loss: 0.0432 - val_loss: 0.0436\n",
            "Epoch 123/200\n",
            "313/313 [==============================] - 1s 2ms/step - loss: 0.0431 - val_loss: 0.0436\n",
            "Epoch 124/200\n",
            "313/313 [==============================] - 1s 2ms/step - loss: 0.0430 - val_loss: 0.0436\n",
            "Epoch 125/200\n",
            "313/313 [==============================] - 1s 2ms/step - loss: 0.0432 - val_loss: 0.0436\n",
            "Epoch 126/200\n",
            "313/313 [==============================] - 1s 2ms/step - loss: 0.0433 - val_loss: 0.0436\n",
            "Epoch 127/200\n",
            "313/313 [==============================] - 1s 2ms/step - loss: 0.0431 - val_loss: 0.0436\n",
            "Epoch 128/200\n",
            "313/313 [==============================] - 1s 2ms/step - loss: 0.0431 - val_loss: 0.0436\n",
            "Epoch 129/200\n",
            "313/313 [==============================] - 1s 2ms/step - loss: 0.0432 - val_loss: 0.0436\n",
            "Epoch 130/200\n",
            "313/313 [==============================] - 1s 2ms/step - loss: 0.0431 - val_loss: 0.0436\n",
            "Epoch 131/200\n",
            "313/313 [==============================] - 1s 2ms/step - loss: 0.0433 - val_loss: 0.0436\n",
            "Epoch 132/200\n",
            "313/313 [==============================] - 1s 2ms/step - loss: 0.0431 - val_loss: 0.0436\n",
            "Epoch 133/200\n",
            "313/313 [==============================] - 1s 2ms/step - loss: 0.0432 - val_loss: 0.0436\n",
            "Epoch 134/200\n",
            "313/313 [==============================] - 1s 2ms/step - loss: 0.0432 - val_loss: 0.0436\n",
            "Epoch 135/200\n",
            "313/313 [==============================] - 1s 2ms/step - loss: 0.0433 - val_loss: 0.0436\n",
            "Epoch 136/200\n",
            "313/313 [==============================] - 1s 2ms/step - loss: 0.0431 - val_loss: 0.0436\n",
            "Epoch 137/200\n",
            "313/313 [==============================] - 1s 2ms/step - loss: 0.0431 - val_loss: 0.0436\n",
            "Epoch 138/200\n",
            "313/313 [==============================] - 1s 2ms/step - loss: 0.0433 - val_loss: 0.0436\n",
            "Epoch 139/200\n",
            "313/313 [==============================] - 1s 2ms/step - loss: 0.0431 - val_loss: 0.0436\n",
            "Epoch 140/200\n",
            "313/313 [==============================] - 1s 2ms/step - loss: 0.0429 - val_loss: 0.0436\n",
            "Epoch 141/200\n",
            "313/313 [==============================] - 1s 2ms/step - loss: 0.0432 - val_loss: 0.0436\n",
            "Epoch 142/200\n",
            "313/313 [==============================] - 1s 2ms/step - loss: 0.0431 - val_loss: 0.0436\n",
            "Epoch 143/200\n",
            "313/313 [==============================] - 1s 2ms/step - loss: 0.0432 - val_loss: 0.0436\n",
            "Epoch 144/200\n",
            "313/313 [==============================] - 1s 2ms/step - loss: 0.0432 - val_loss: 0.0436\n",
            "Epoch 145/200\n",
            "313/313 [==============================] - 1s 2ms/step - loss: 0.0432 - val_loss: 0.0436\n",
            "Epoch 146/200\n",
            "313/313 [==============================] - 1s 2ms/step - loss: 0.0432 - val_loss: 0.0436\n",
            "Epoch 147/200\n",
            "313/313 [==============================] - 1s 2ms/step - loss: 0.0431 - val_loss: 0.0436\n",
            "Epoch 148/200\n",
            "313/313 [==============================] - 1s 2ms/step - loss: 0.0431 - val_loss: 0.0436\n",
            "Epoch 149/200\n",
            "313/313 [==============================] - 1s 2ms/step - loss: 0.0432 - val_loss: 0.0436\n",
            "Epoch 150/200\n",
            "313/313 [==============================] - 1s 2ms/step - loss: 0.0432 - val_loss: 0.0436\n",
            "Epoch 151/200\n",
            "313/313 [==============================] - 1s 2ms/step - loss: 0.0431 - val_loss: 0.0436\n",
            "Epoch 152/200\n",
            "313/313 [==============================] - 1s 2ms/step - loss: 0.0432 - val_loss: 0.0436\n",
            "Epoch 153/200\n",
            "313/313 [==============================] - 1s 2ms/step - loss: 0.0430 - val_loss: 0.0436\n",
            "Epoch 154/200\n",
            "313/313 [==============================] - 1s 2ms/step - loss: 0.0432 - val_loss: 0.0436\n",
            "Epoch 155/200\n",
            "313/313 [==============================] - 1s 2ms/step - loss: 0.0433 - val_loss: 0.0436\n",
            "Epoch 156/200\n",
            "313/313 [==============================] - 1s 2ms/step - loss: 0.0433 - val_loss: 0.0436\n",
            "Epoch 157/200\n",
            "313/313 [==============================] - 1s 2ms/step - loss: 0.0432 - val_loss: 0.0436\n",
            "Epoch 158/200\n",
            "313/313 [==============================] - 1s 2ms/step - loss: 0.0432 - val_loss: 0.0436\n",
            "Epoch 159/200\n",
            "313/313 [==============================] - 1s 2ms/step - loss: 0.0431 - val_loss: 0.0436\n",
            "Epoch 160/200\n",
            "313/313 [==============================] - 1s 2ms/step - loss: 0.0432 - val_loss: 0.0436\n",
            "Epoch 161/200\n",
            "313/313 [==============================] - 1s 2ms/step - loss: 0.0430 - val_loss: 0.0436\n",
            "Epoch 162/200\n",
            "313/313 [==============================] - 1s 2ms/step - loss: 0.0432 - val_loss: 0.0436\n",
            "Epoch 163/200\n",
            "313/313 [==============================] - 1s 2ms/step - loss: 0.0432 - val_loss: 0.0436\n",
            "Epoch 164/200\n",
            "313/313 [==============================] - 1s 2ms/step - loss: 0.0432 - val_loss: 0.0436\n",
            "Epoch 165/200\n",
            "313/313 [==============================] - 1s 2ms/step - loss: 0.0433 - val_loss: 0.0436\n",
            "Epoch 166/200\n",
            "313/313 [==============================] - 1s 2ms/step - loss: 0.0430 - val_loss: 0.0436\n",
            "Epoch 167/200\n",
            "313/313 [==============================] - 1s 2ms/step - loss: 0.0433 - val_loss: 0.0436\n",
            "Epoch 168/200\n",
            "313/313 [==============================] - 1s 2ms/step - loss: 0.0431 - val_loss: 0.0436\n",
            "Epoch 169/200\n",
            "313/313 [==============================] - 1s 2ms/step - loss: 0.0431 - val_loss: 0.0436\n",
            "Epoch 170/200\n",
            "313/313 [==============================] - 1s 2ms/step - loss: 0.0431 - val_loss: 0.0436\n",
            "Epoch 171/200\n",
            "313/313 [==============================] - 1s 2ms/step - loss: 0.0431 - val_loss: 0.0436\n",
            "Epoch 172/200\n",
            "313/313 [==============================] - 1s 2ms/step - loss: 0.0431 - val_loss: 0.0436\n",
            "Epoch 173/200\n",
            "313/313 [==============================] - 1s 2ms/step - loss: 0.0432 - val_loss: 0.0436\n",
            "Epoch 174/200\n",
            "313/313 [==============================] - 1s 2ms/step - loss: 0.0432 - val_loss: 0.0436\n",
            "Epoch 175/200\n",
            "313/313 [==============================] - 1s 2ms/step - loss: 0.0433 - val_loss: 0.0436\n",
            "Epoch 176/200\n",
            "313/313 [==============================] - 1s 2ms/step - loss: 0.0430 - val_loss: 0.0436\n",
            "Epoch 177/200\n",
            "313/313 [==============================] - 1s 2ms/step - loss: 0.0432 - val_loss: 0.0436\n",
            "Epoch 178/200\n",
            "313/313 [==============================] - 1s 2ms/step - loss: 0.0432 - val_loss: 0.0436\n",
            "Epoch 179/200\n",
            "313/313 [==============================] - 1s 2ms/step - loss: 0.0432 - val_loss: 0.0436\n",
            "Epoch 180/200\n",
            "313/313 [==============================] - 1s 2ms/step - loss: 0.0432 - val_loss: 0.0436\n",
            "Epoch 181/200\n",
            "313/313 [==============================] - 1s 2ms/step - loss: 0.0432 - val_loss: 0.0436\n",
            "Epoch 182/200\n",
            "313/313 [==============================] - 1s 2ms/step - loss: 0.0432 - val_loss: 0.0436\n",
            "Epoch 183/200\n",
            "313/313 [==============================] - 1s 2ms/step - loss: 0.0431 - val_loss: 0.0436\n",
            "Epoch 184/200\n",
            "313/313 [==============================] - 1s 2ms/step - loss: 0.0433 - val_loss: 0.0436\n",
            "Epoch 185/200\n",
            "313/313 [==============================] - 1s 2ms/step - loss: 0.0429 - val_loss: 0.0436\n",
            "Epoch 186/200\n",
            "313/313 [==============================] - 1s 2ms/step - loss: 0.0433 - val_loss: 0.0436\n",
            "Epoch 187/200\n",
            "313/313 [==============================] - 1s 2ms/step - loss: 0.0431 - val_loss: 0.0436\n",
            "Epoch 188/200\n",
            "313/313 [==============================] - 1s 2ms/step - loss: 0.0432 - val_loss: 0.0436\n",
            "Epoch 189/200\n",
            "313/313 [==============================] - 1s 2ms/step - loss: 0.0431 - val_loss: 0.0436\n",
            "Epoch 190/200\n",
            "313/313 [==============================] - 1s 2ms/step - loss: 0.0433 - val_loss: 0.0436\n",
            "Epoch 191/200\n",
            "313/313 [==============================] - 1s 2ms/step - loss: 0.0432 - val_loss: 0.0436\n",
            "Epoch 192/200\n",
            "313/313 [==============================] - 1s 2ms/step - loss: 0.0432 - val_loss: 0.0436\n",
            "Epoch 193/200\n",
            "313/313 [==============================] - 1s 2ms/step - loss: 0.0432 - val_loss: 0.0436\n",
            "Epoch 194/200\n",
            "313/313 [==============================] - 1s 2ms/step - loss: 0.0433 - val_loss: 0.0436\n",
            "Epoch 195/200\n",
            "313/313 [==============================] - 1s 2ms/step - loss: 0.0432 - val_loss: 0.0436\n",
            "Epoch 196/200\n",
            "313/313 [==============================] - 1s 2ms/step - loss: 0.0431 - val_loss: 0.0436\n",
            "Epoch 197/200\n",
            "313/313 [==============================] - 1s 2ms/step - loss: 0.0433 - val_loss: 0.0436\n",
            "Epoch 198/200\n",
            "313/313 [==============================] - 1s 2ms/step - loss: 0.0432 - val_loss: 0.0436\n",
            "Epoch 199/200\n",
            "313/313 [==============================] - 1s 2ms/step - loss: 0.0431 - val_loss: 0.0436\n",
            "Epoch 200/200\n",
            "313/313 [==============================] - 1s 2ms/step - loss: 0.0432 - val_loss: 0.0436\n"
          ],
          "name": "stdout"
        }
      ]
    },
    {
      "cell_type": "code",
      "metadata": {
        "id": "cWPHrlfuNbIJ",
        "colab": {
          "base_uri": "https://localhost:8080/",
          "height": 316
        },
        "outputId": "bb19f1b4-ee5b-43a4-d477-8849ab95f91b"
      },
      "source": [
        "print (\"Result: \\nTrain loss:%f, Val loss:%f\" % (history.history[\"loss\"][epochs-1], history.history[\"val_loss\"][epochs-1]))\n",
        "# Make Train Loss and Validation Loss versus Epochs plot \n",
        "plot_loss(history)"
      ],
      "execution_count": 18,
      "outputs": [
        {
          "output_type": "stream",
          "text": [
            "Result: \n",
            "Train loss:0.043190, Val loss:0.043592\n"
          ],
          "name": "stdout"
        },
        {
          "output_type": "display_data",
          "data": {
            "image/png": "[encoded data removed]",
            "text/plain": [
              "<Figure size 432x288 with 1 Axes>"
            ]
          },
          "metadata": {
            "tags": [],
            "needs_background": "light"
          }
        }
      ]
    },
    {
      "cell_type": "markdown",
      "metadata": {
        "id": "HPnSUYTSNbIL"
      },
      "source": [
        "### Threshold Selection"
      ]
    },
    {
      "cell_type": "code",
      "metadata": {
        "id": "r6qrMobQNbIL"
      },
      "source": [
        "autoencoder = load_model('ae_model.h5')"
      ],
      "execution_count": 19,
      "outputs": []
    },
    {
      "cell_type": "code",
      "metadata": {
        "id": "53fVrJtXNbIN",
        "colab": {
          "base_uri": "https://localhost:8080/"
        },
        "outputId": "efb13bc8-32a5-4272-c41f-ff8b1884ce97"
      },
      "source": [
        "# compute reconstruction errors on train set\n",
        "predictions = autoencoder.predict(scaled_train)\n",
        "mse = np.mean(np.power(scaled_train - predictions, 2), axis=1)\n",
        "threshold = np.quantile(mse, (1-10/50000))\n",
        "print('MSE threshold:', threshold)"
      ],
      "execution_count": 20,
      "outputs": [
        {
          "output_type": "stream",
          "text": [
            "MSE threshold: 0.0911897969373238\n"
          ],
          "name": "stdout"
        }
      ]
    },
    {
      "cell_type": "markdown",
      "metadata": {
        "id": "4xqgKr0bNbIQ"
      },
      "source": [
        "### Prediction"
      ]
    },
    {
      "cell_type": "code",
      "metadata": {
        "id": "8oM1YukNNbIR",
        "colab": {
          "base_uri": "https://localhost:8080/"
        },
        "outputId": "aa298b5a-45a8-4fe7-ebb3-d01c7d59daec"
      },
      "source": [
        "# predict on test set\n",
        "predictions = autoencoder.predict(scaled_test)\n",
        "mse = np.mean(np.power(scaled_test - predictions, 2), axis=1)\n",
        "a = np.array(mse)\n",
        "anoms_idx = np.argwhere(a > threshold)\n",
        "#print(\"Indices:\",anoms_idx.ravel())\n",
        "anomalies = X_test[anoms_idx]\n",
        "for anom in anomalies:\n",
        "    print(decode_sequence_list(anom)[0])"
      ],
      "execution_count": 21,
      "outputs": [
        {
          "output_type": "stream",
          "text": [
            "['X', 'Y', 'D', 'C', '2', 'D', 'C', 'A']\n",
            "['T', 'X', 'S', 'X', '1', 'A', 'B', 'C']\n",
            "['X', 'T', 'S', 'X', '1', 'A', 'B', 'C']\n"
          ],
          "name": "stdout"
        }
      ]
    },
    {
      "cell_type": "markdown",
      "metadata": {
        "id": "lfVx77q4NbIV"
      },
      "source": [
        "### Visualizing Latent Variables"
      ]
    },
    {
      "cell_type": "code",
      "metadata": {
        "id": "7kpV-wYoNbIV",
        "colab": {
          "base_uri": "https://localhost:8080/",
          "height": 265
        },
        "outputId": "cc1a27d8-93a8-4604-e9eb-4fdd472d3f16"
      },
      "source": [
        "# Plot the latent varaibles\n",
        "hidden_layers = keras.backend.function(\n",
        "[autoencoder.layers[0].input],\n",
        "[autoencoder.layers[2].output]\n",
        ")\n",
        "\n",
        "normal_idx = np.argwhere(a <= threshold)\n",
        "latent_normals = hidden_layers([scaled_test[normal_idx.flatten()]])[0]\n",
        "latent_anomalies = hidden_layers([scaled_test[anoms_idx.flatten()]])[0]\n",
        "\n",
        "plt.scatter(latent_normals[:,0], latent_normals[:,1], alpha=0.5, label='Normal')\n",
        "plt.scatter(latent_anomalies[:,0], latent_anomalies[:,1], alpha=0.5, label='Anomaly')\n",
        "plt.legend()\n",
        "plt.show()"
      ],
      "execution_count": 22,
      "outputs": [
        {
          "output_type": "display_data",
          "data": {
            "image/png": "[encoded data removed]",
            "text/plain": [
              "<Figure size 432x288 with 1 Axes>"
            ]
          },
          "metadata": {
            "tags": [],
            "needs_background": "light"
          }
        }
      ]
    },
    {
      "cell_type": "markdown",
      "metadata": {
        "id": "dVYZsn2FNbIZ"
      },
      "source": [
        "### TensorBoard"
      ]
    },
    {
      "cell_type": "code",
      "metadata": {
        "id": "UkOauAkKNbIZ"
      },
      "source": [
        "# Load the TensorBoard notebook extension\n",
        "#%load_ext tensorboard"
      ],
      "execution_count": null,
      "outputs": []
    },
    {
      "cell_type": "code",
      "metadata": {
        "id": "18i-QOWsNbIb"
      },
      "source": [
        "#%tensorboard --logdir logs"
      ],
      "execution_count": null,
      "outputs": []
    }
  ]
}