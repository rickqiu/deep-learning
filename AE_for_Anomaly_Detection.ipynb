{
 "cells": [
  {
   "cell_type": "markdown",
   "metadata": {},
   "source": [
    "# Autoencoder (AE) for Anomaly Detection\n",
    "\n",
    "**by Rick Qiu in May, 2020**"
   ]
  },
  {
   "cell_type": "code",
   "execution_count": 1,
   "metadata": {},
   "outputs": [
    {
     "name": "stdout",
     "output_type": "stream",
     "text": [
      "Once deleted, variables cannot be recovered. Proceed (y/[n])? y\n"
     ]
    }
   ],
   "source": [
    "%reset"
   ]
  },
  {
   "cell_type": "code",
   "execution_count": 2,
   "metadata": {},
   "outputs": [],
   "source": [
    "import random\n",
    "import numpy as np\n",
    "from sklearn.preprocessing import MinMaxScaler\n",
    "# Tensorflow\n",
    "import tensorflow as tf\n",
    "from tensorflow import keras\n",
    "from tensorflow.keras.optimizers import Adam\n",
    "from tensorflow.keras.models import Model, load_model\n",
    "from tensorflow.keras.layers import Input, Dense\n",
    "from tensorflow.keras.callbacks import ModelCheckpoint, TensorBoard\n",
    "from tensorflow.keras.utils import plot_model\n",
    "from tensorflow.keras.preprocessing.sequence import pad_sequences\n",
    "import matplotlib.pyplot as plt\n",
    "%matplotlib inline"
   ]
  },
  {
   "cell_type": "markdown",
   "metadata": {},
   "source": [
    "### Data generation"
   ]
  },
  {
   "cell_type": "code",
   "execution_count": 3,
   "metadata": {},
   "outputs": [
    {
     "name": "stdout",
     "output_type": "stream",
     "text": [
      "FACF2OLM\n"
     ]
    }
   ],
   "source": [
    "# We refer alphabetic character sequence generation to Alon Agmon 2020\n",
    "# https://github.com/a-agmon/experiments/blob/master/Sequence_Anomaly_Detection-NN.ipynb\n",
    "def get_random_string():\n",
    "    # returns a string of the following format: \n",
    "    #[4 letters A-F][1 digit 0-2][3 letters QWOPZXML]\n",
    "    first_letters =  'ABCDEF'\n",
    "    second_numbers = '120'\n",
    "    last_letters = 'QWOPZXML'\n",
    "    str1 = ''.join(random.choice(first_letters) for i in range(4))\n",
    "    str2 = random.choice(second_numbers)\n",
    "    str3 = ''.join(random.choice(last_letters) for i in range(3))\n",
    "    return str1+str2+str3\n",
    "    \n",
    "print(get_random_string())"
   ]
  },
  {
   "cell_type": "code",
   "execution_count": 4,
   "metadata": {},
   "outputs": [],
   "source": [
    "def generate_data():\n",
    "    normals = 50000 - 10\n",
    "    random_sequences = [get_random_string() for i in range(normals)]\n",
    "    # add some anomalies to our list\n",
    "    random_sequences.extend(['XYDC2DCA', 'TXSX1ABC','RNIU4XRE','AABDXUEI','SDRAC5RF',\n",
    "                             'YXDC2DCB', 'XTSX1ABC','RNUI4XRE','TABDXAID','SERACDRF'])\n",
    "    return random_sequences"
   ]
  },
  {
   "cell_type": "code",
   "execution_count": 5,
   "metadata": {},
   "outputs": [
    {
     "name": "stdout",
     "output_type": "stream",
     "text": [
      "['ECDF2WOW', 'EEFC1QOZ', 'CFFA0XOX', 'CFDE1PPW', 'CCCF0WWQ']\n"
     ]
    }
   ],
   "source": [
    "data = generate_data()\n",
    "print(data[0:5])"
   ]
  },
  {
   "cell_type": "markdown",
   "metadata": {},
   "source": [
    "### Data Preprocessing"
   ]
  },
  {
   "cell_type": "code",
   "execution_count": 6,
   "metadata": {},
   "outputs": [],
   "source": [
    "# We refer sequence encoding and decoding to Alon Agmon 2020\n",
    "# https://github.com/a-agmon/experiments/blob/master/Sequence_Anomaly_Detection-NN.ipynb\n",
    "#Build the char index that we will use to encode seqs to numbers\n",
    "char_index = '0abcdefghijklmnopqrstuvwxyz'\n",
    "char_index +='ABCDEFGHIJKLMNOPQRSTUVWXYZ'\n",
    "char_index += '123456789'\n",
    "char_index += '().,-/+=&$?@#!*:;_[]|%⸏{}\\\"\\'' + ' ' +'\\\\'\n",
    "\n",
    "char_to_int = dict((c, i) for i, c in enumerate(char_index))\n",
    "int_to_char = dict((i, c) for i, c in enumerate(char_index))\n",
    "\n",
    "#function that convert a char seqs to numbers seqs \n",
    "#(it does a little more but lets leave it for now)\n",
    "def encode_sequence_list(seqs, feat_n=0):\n",
    "    encoded_seqs = []\n",
    "    for seq in seqs:\n",
    "        encoded_seq = [char_to_int[c] for c in seq]\n",
    "        encoded_seqs.append(encoded_seq)\n",
    "    if(feat_n > 0):\n",
    "        encoded_seqs.append(np.zeros(feat_n))\n",
    "    return pad_sequences(encoded_seqs, padding='post')\n",
    "\n",
    "def decode_sequence_list(seqs):\n",
    "    decoded_seqs = []\n",
    "    for seq in seqs:\n",
    "        decoded_seq = [int_to_char[i] for i in seq]\n",
    "        decoded_seqs.append(decoded_seq)\n",
    "    return decoded_seqs"
   ]
  },
  {
   "cell_type": "code",
   "execution_count": 7,
   "metadata": {},
   "outputs": [
    {
     "name": "stdout",
     "output_type": "stream",
     "text": [
      "(50000, 8)\n",
      "[30 30 30 30 54 49 42 38]\n"
     ]
    }
   ],
   "source": [
    "# encode each string seq to an integer array [[1],[5],[67]], [[45],[76],[7]\n",
    "encoded_seqs = encode_sequence_list(data)\n",
    "# mix everything up\n",
    "np.random.shuffle(encoded_seqs)\n",
    "print(encoded_seqs.shape)\n",
    "print(encoded_seqs[10])"
   ]
  },
  {
   "cell_type": "code",
   "execution_count": 9,
   "metadata": {},
   "outputs": [],
   "source": [
    "# split dataset to train/test (80:20)\n",
    "X_train = encoded_seqs[:40000]\n",
    "X_test = encoded_seqs[40000:]\n",
    "\n",
    "# scale the data to a range [0,1]\n",
    "scaler = MinMaxScaler()\n",
    "scaler = scaler.fit(X_train)\n",
    "scaled_train  = scaler.transform(X_train)\n",
    "scaled_test = scaler.transform(X_test)"
   ]
  },
  {
   "cell_type": "markdown",
   "metadata": {},
   "source": [
    "### Autoencoder Model"
   ]
  },
  {
   "cell_type": "code",
   "execution_count": 10,
   "metadata": {},
   "outputs": [],
   "source": [
    "# Define the autoencoder\n",
    "def autoencoder_model():\n",
    "    # Encoder\n",
    "    input_data = Input(shape=(8,))\n",
    "    encoder = Dense(units=5,activation='relu')(input_data)\n",
    "    # Bottleneck\n",
    "    latent_output = Dense(units=2,activation='relu')(encoder)\n",
    "    # Decoder\n",
    "    decoder = Dense(units=5,activation='relu')(latent_output)\n",
    "    decoder = Dense(units=8,activation='linear')(decoder)\n",
    "    # Create Autoencoder model\n",
    "    autoencoder = Model(input_data,decoder)\n",
    "    return autoencoder"
   ]
  },
  {
   "cell_type": "code",
   "execution_count": 11,
   "metadata": {},
   "outputs": [],
   "source": [
    "# Define a function which plots training loss and validation loss across the different epochs.\n",
    "def plot_loss(history):\n",
    "    plt.xlabel('Epochs')\n",
    "    plt.ylabel('MSE')\n",
    "    # Plot train loss\n",
    "    plt.plot(history.history[\"loss\"], linewidth=2., label=\"train_loss\")\n",
    "    # Plot val_loss\n",
    "    plt.plot(history.history[\"val_loss\"],linewidth=2., label=\"val_loss\")\n",
    "    plt.legend()\n",
    "    plt.show()"
   ]
  },
  {
   "cell_type": "code",
   "execution_count": 12,
   "metadata": {},
   "outputs": [
    {
     "name": "stdout",
     "output_type": "stream",
     "text": [
      "Model: \"model\"\n",
      "_________________________________________________________________\n",
      "Layer (type)                 Output Shape              Param #   \n",
      "=================================================================\n",
      "input_1 (InputLayer)         [(None, 8)]               0         \n",
      "_________________________________________________________________\n",
      "dense (Dense)                (None, 5)                 45        \n",
      "_________________________________________________________________\n",
      "dense_1 (Dense)              (None, 2)                 12        \n",
      "_________________________________________________________________\n",
      "dense_2 (Dense)              (None, 5)                 15        \n",
      "_________________________________________________________________\n",
      "dense_3 (Dense)              (None, 8)                 48        \n",
      "=================================================================\n",
      "Total params: 120\n",
      "Trainable params: 120\n",
      "Non-trainable params: 0\n",
      "_________________________________________________________________\n",
      "None\n"
     ]
    },
    {
     "data": {
      "image/png": "[encoded data removed]",
      "text/plain": [
       "<IPython.core.display.Image object>"
      ]
     },
     "execution_count": 12,
     "metadata": {},
     "output_type": "execute_result"
    }
   ],
   "source": [
    "# Instantiate and compile the model\n",
    "autoencoder = autoencoder_model()\n",
    "opt = Adam(learning_rate=0.001, decay=1e-5)\n",
    "autoencoder.compile(optimizer=opt,loss='mean_squared_error')\n",
    "print(autoencoder.summary())\n",
    "plot_model(autoencoder, to_file='autoencoder.png', show_shapes=True)"
   ]
  },
  {
   "cell_type": "markdown",
   "metadata": {},
   "source": [
    "### Model Training"
   ]
  },
  {
   "cell_type": "code",
   "execution_count": 13,
   "metadata": {},
   "outputs": [
    {
     "name": "stdout",
     "output_type": "stream",
     "text": [
      "Train on 40000 samples, validate on 10000 samples\n",
      "Epoch 1/200\n",
      "40000/40000 [==============================] - 1s 31us/sample - loss: 0.1862 - val_loss: 0.1213\n",
      "Epoch 2/200\n",
      "40000/40000 [==============================] - 1s 15us/sample - loss: 0.0624 - val_loss: 0.0198\n",
      "Epoch 3/200\n",
      "40000/40000 [==============================] - 1s 16us/sample - loss: 0.0191 - val_loss: 0.0187\n",
      "Epoch 4/200\n",
      "40000/40000 [==============================] - 1s 18us/sample - loss: 0.0185 - val_loss: 0.0184\n",
      "Epoch 5/200\n",
      "40000/40000 [==============================] - 1s 18us/sample - loss: 0.0182 - val_loss: 0.0181\n",
      "Epoch 6/200\n",
      "40000/40000 [==============================] - 1s 27us/sample - loss: 0.0179 - val_loss: 0.0178\n",
      "Epoch 7/200\n",
      "40000/40000 [==============================] - 1s 24us/sample - loss: 0.0175 - val_loss: 0.0174\n",
      "Epoch 8/200\n",
      "40000/40000 [==============================] - 1s 17us/sample - loss: 0.0172 - val_loss: 0.0171\n",
      "Epoch 9/200\n",
      "40000/40000 [==============================] - 1s 17us/sample - loss: 0.0169 - val_loss: 0.0168\n",
      "Epoch 10/200\n",
      "40000/40000 [==============================] - 1s 18us/sample - loss: 0.0166 - val_loss: 0.0166\n",
      "Epoch 11/200\n",
      "40000/40000 [==============================] - 1s 20us/sample - loss: 0.0164 - val_loss: 0.0165\n",
      "Epoch 12/200\n",
      "40000/40000 [==============================] - 1s 24us/sample - loss: 0.0163 - val_loss: 0.0163\n",
      "Epoch 13/200\n",
      "40000/40000 [==============================] - 1s 22us/sample - loss: 0.0162 - val_loss: 0.0162\n",
      "Epoch 14/200\n",
      "40000/40000 [==============================] - 1s 21us/sample - loss: 0.0161 - val_loss: 0.0162\n",
      "Epoch 15/200\n",
      "40000/40000 [==============================] - 1s 22us/sample - loss: 0.0161 - val_loss: 0.0161\n",
      "Epoch 16/200\n",
      "40000/40000 [==============================] - 1s 35us/sample - loss: 0.0160 - val_loss: 0.0161\n",
      "Epoch 17/200\n",
      "40000/40000 [==============================] - 1s 20us/sample - loss: 0.0160 - val_loss: 0.0161\n",
      "Epoch 18/200\n",
      "40000/40000 [==============================] - 1s 24us/sample - loss: 0.0155 - val_loss: 0.0152\n",
      "Epoch 19/200\n",
      "40000/40000 [==============================] - 1s 29us/sample - loss: 0.0150 - val_loss: 0.0150\n",
      "Epoch 20/200\n",
      "40000/40000 [==============================] - 1s 23us/sample - loss: 0.0147 - val_loss: 0.0147\n",
      "Epoch 21/200\n",
      "40000/40000 [==============================] - 1s 23us/sample - loss: 0.0144 - val_loss: 0.0143\n",
      "Epoch 22/200\n",
      "40000/40000 [==============================] - 1s 28us/sample - loss: 0.0140 - val_loss: 0.0139\n",
      "Epoch 23/200\n",
      "40000/40000 [==============================] - 2s 39us/sample - loss: 0.0136 - val_loss: 0.0135\n",
      "Epoch 24/200\n",
      "40000/40000 [==============================] - 1s 28us/sample - loss: 0.0132 - val_loss: 0.0131\n",
      "Epoch 25/200\n",
      "40000/40000 [==============================] - 1s 24us/sample - loss: 0.0129 - val_loss: 0.0128\n",
      "Epoch 26/200\n",
      "40000/40000 [==============================] - ETA: 0s - loss: 0.012 - 1s 23us/sample - loss: 0.0127 - val_loss: 0.0127\n",
      "Epoch 27/200\n",
      "40000/40000 [==============================] - 1s 23us/sample - loss: 0.0125 - val_loss: 0.0126\n",
      "Epoch 28/200\n",
      "40000/40000 [==============================] - 1s 28us/sample - loss: 0.0125 - val_loss: 0.0125\n",
      "Epoch 29/200\n",
      "40000/40000 [==============================] - 1s 32us/sample - loss: 0.0124 - val_loss: 0.0124\n",
      "Epoch 30/200\n",
      "40000/40000 [==============================] - 1s 33us/sample - loss: 0.0123 - val_loss: 0.0124\n",
      "Epoch 31/200\n",
      "40000/40000 [==============================] - 1s 22us/sample - loss: 0.0123 - val_loss: 0.0124\n",
      "Epoch 32/200\n",
      "40000/40000 [==============================] - 1s 23us/sample - loss: 0.0122 - val_loss: 0.0123\n",
      "Epoch 33/200\n",
      "40000/40000 [==============================] - 1s 24us/sample - loss: 0.0122 - val_loss: 0.0122\n",
      "Epoch 34/200\n",
      "40000/40000 [==============================] - 1s 23us/sample - loss: 0.0121 - val_loss: 0.0122\n",
      "Epoch 35/200\n",
      "40000/40000 [==============================] - 1s 24us/sample - loss: 0.0114 - val_loss: 0.0109\n",
      "Epoch 36/200\n",
      "40000/40000 [==============================] - 1s 24us/sample - loss: 0.0108 - val_loss: 0.0108\n",
      "Epoch 37/200\n",
      "40000/40000 [==============================] - 1s 23us/sample - loss: 0.0107 - val_loss: 0.0108\n",
      "Epoch 38/200\n",
      "40000/40000 [==============================] - 1s 23us/sample - loss: 0.0107 - val_loss: 0.0108\n",
      "Epoch 39/200\n",
      "40000/40000 [==============================] - 1s 24us/sample - loss: 0.0107 - val_loss: 0.0108\n",
      "Epoch 40/200\n",
      "40000/40000 [==============================] - 1s 24us/sample - loss: 0.0107 - val_loss: 0.0108\n",
      "Epoch 41/200\n",
      "40000/40000 [==============================] - 1s 23us/sample - loss: 0.0107 - val_loss: 0.0108\n",
      "Epoch 42/200\n",
      "40000/40000 [==============================] - 1s 24us/sample - loss: 0.0107 - val_loss: 0.0108\n",
      "Epoch 43/200\n",
      "40000/40000 [==============================] - 1s 36us/sample - loss: 0.0107 - val_loss: 0.0108\n",
      "Epoch 44/200\n",
      "40000/40000 [==============================] - 1s 24us/sample - loss: 0.0107 - val_loss: 0.0108\n",
      "Epoch 45/200\n",
      "40000/40000 [==============================] - 1s 23us/sample - loss: 0.0107 - val_loss: 0.0109\n",
      "Epoch 46/200\n",
      "40000/40000 [==============================] - 1s 22us/sample - loss: 0.0107 - val_loss: 0.0108\n",
      "Epoch 47/200\n",
      "40000/40000 [==============================] - 1s 21us/sample - loss: 0.0107 - val_loss: 0.0108\n",
      "Epoch 48/200\n",
      "40000/40000 [==============================] - 1s 22us/sample - loss: 0.0107 - val_loss: 0.0108\n",
      "Epoch 49/200\n",
      "40000/40000 [==============================] - 1s 23us/sample - loss: 0.0107 - val_loss: 0.0108\n",
      "Epoch 50/200\n",
      "40000/40000 [==============================] - 1s 24us/sample - loss: 0.0107 - val_loss: 0.0108\n",
      "Epoch 51/200\n",
      "40000/40000 [==============================] - 1s 23us/sample - loss: 0.0107 - val_loss: 0.0108\n",
      "Epoch 52/200\n",
      "40000/40000 [==============================] - 1s 20us/sample - loss: 0.0107 - val_loss: 0.0108\n",
      "Epoch 53/200\n",
      "40000/40000 [==============================] - 1s 21us/sample - loss: 0.0107 - val_loss: 0.0108\n",
      "Epoch 54/200\n",
      "40000/40000 [==============================] - 1s 17us/sample - loss: 0.0107 - val_loss: 0.0108\n",
      "Epoch 55/200\n",
      "40000/40000 [==============================] - 1s 18us/sample - loss: 0.0107 - val_loss: 0.0107\n",
      "Epoch 56/200\n",
      "40000/40000 [==============================] - 1s 19us/sample - loss: 0.0107 - val_loss: 0.0107\n",
      "Epoch 57/200\n",
      "40000/40000 [==============================] - 1s 21us/sample - loss: 0.0107 - val_loss: 0.0107\n",
      "Epoch 58/200\n",
      "40000/40000 [==============================] - 1s 33us/sample - loss: 0.0107 - val_loss: 0.0107\n",
      "Epoch 59/200\n",
      "40000/40000 [==============================] - 1s 30us/sample - loss: 0.0107 - val_loss: 0.0107\n",
      "Epoch 60/200\n",
      "40000/40000 [==============================] - 1s 25us/sample - loss: 0.0107 - val_loss: 0.0108\n",
      "Epoch 61/200\n",
      "40000/40000 [==============================] - 1s 26us/sample - loss: 0.0107 - val_loss: 0.0107\n",
      "Epoch 62/200\n",
      "40000/40000 [==============================] - 2s 39us/sample - loss: 0.0107 - val_loss: 0.0107\n",
      "Epoch 63/200\n",
      "40000/40000 [==============================] - 1s 34us/sample - loss: 0.0106 - val_loss: 0.0107\n",
      "Epoch 64/200\n",
      "40000/40000 [==============================] - 1s 28us/sample - loss: 0.0106 - val_loss: 0.0108\n",
      "Epoch 65/200\n",
      "40000/40000 [==============================] - 1s 27us/sample - loss: 0.0106 - val_loss: 0.0107\n",
      "Epoch 66/200\n",
      "40000/40000 [==============================] - 1s 26us/sample - loss: 0.0106 - val_loss: 0.0107\n",
      "Epoch 67/200\n",
      "40000/40000 [==============================] - 1s 27us/sample - loss: 0.0106 - val_loss: 0.0107\n",
      "Epoch 68/200\n",
      "40000/40000 [==============================] - 1s 28us/sample - loss: 0.0106 - val_loss: 0.0107\n",
      "Epoch 69/200\n",
      "40000/40000 [==============================] - 1s 28us/sample - loss: 0.0106 - val_loss: 0.0107\n",
      "Epoch 70/200\n",
      "40000/40000 [==============================] - 1s 28us/sample - loss: 0.0106 - val_loss: 0.0107\n",
      "Epoch 71/200\n",
      "40000/40000 [==============================] - 1s 27us/sample - loss: 0.0106 - val_loss: 0.0107\n",
      "Epoch 72/200\n",
      "40000/40000 [==============================] - 1s 28us/sample - loss: 0.0106 - val_loss: 0.0106\n",
      "Epoch 73/200\n",
      "40000/40000 [==============================] - 1s 26us/sample - loss: 0.0106 - val_loss: 0.0107\n",
      "Epoch 74/200\n",
      "40000/40000 [==============================] - 1s 27us/sample - loss: 0.0106 - val_loss: 0.0107\n",
      "Epoch 75/200\n"
     ]
    },
    {
     "name": "stdout",
     "output_type": "stream",
     "text": [
      "40000/40000 [==============================] - 1s 20us/sample - loss: 0.0106 - val_loss: 0.0106\n",
      "Epoch 76/200\n",
      "40000/40000 [==============================] - 1s 17us/sample - loss: 0.0106 - val_loss: 0.0107\n",
      "Epoch 77/200\n",
      "40000/40000 [==============================] - 1s 19us/sample - loss: 0.0106 - val_loss: 0.0107\n",
      "Epoch 78/200\n",
      "40000/40000 [==============================] - 1s 19us/sample - loss: 0.0106 - val_loss: 0.0107\n",
      "Epoch 79/200\n",
      "40000/40000 [==============================] - 1s 17us/sample - loss: 0.0106 - val_loss: 0.0106\n",
      "Epoch 80/200\n",
      "40000/40000 [==============================] - 1s 18us/sample - loss: 0.0106 - val_loss: 0.0106\n",
      "Epoch 81/200\n",
      "40000/40000 [==============================] - 1s 16us/sample - loss: 0.0106 - val_loss: 0.0106\n",
      "Epoch 82/200\n",
      "40000/40000 [==============================] - 1s 17us/sample - loss: 0.0105 - val_loss: 0.0106\n",
      "Epoch 83/200\n",
      "40000/40000 [==============================] - 1s 16us/sample - loss: 0.0106 - val_loss: 0.0106\n",
      "Epoch 84/200\n",
      "40000/40000 [==============================] - 1s 16us/sample - loss: 0.0105 - val_loss: 0.0106\n",
      "Epoch 85/200\n",
      "40000/40000 [==============================] - 1s 16us/sample - loss: 0.0105 - val_loss: 0.0106\n",
      "Epoch 86/200\n",
      "40000/40000 [==============================] - 1s 16us/sample - loss: 0.0105 - val_loss: 0.0106\n",
      "Epoch 87/200\n",
      "40000/40000 [==============================] - 1s 16us/sample - loss: 0.0105 - val_loss: 0.0106\n",
      "Epoch 88/200\n",
      "40000/40000 [==============================] - 1s 16us/sample - loss: 0.0105 - val_loss: 0.0106\n",
      "Epoch 89/200\n",
      "40000/40000 [==============================] - 1s 16us/sample - loss: 0.0105 - val_loss: 0.0106\n",
      "Epoch 90/200\n",
      "40000/40000 [==============================] - 1s 16us/sample - loss: 0.0105 - val_loss: 0.0106\n",
      "Epoch 91/200\n",
      "40000/40000 [==============================] - 1s 16us/sample - loss: 0.0105 - val_loss: 0.0106\n",
      "Epoch 92/200\n",
      "40000/40000 [==============================] - 1s 16us/sample - loss: 0.0105 - val_loss: 0.0106\n",
      "Epoch 93/200\n",
      "40000/40000 [==============================] - 1s 16us/sample - loss: 0.0105 - val_loss: 0.0105\n",
      "Epoch 94/200\n",
      "40000/40000 [==============================] - 1s 17us/sample - loss: 0.0105 - val_loss: 0.0105\n",
      "Epoch 95/200\n",
      "40000/40000 [==============================] - 1s 16us/sample - loss: 0.0105 - val_loss: 0.0106\n",
      "Epoch 96/200\n",
      "40000/40000 [==============================] - 1s 16us/sample - loss: 0.0105 - val_loss: 0.0105\n",
      "Epoch 97/200\n",
      "40000/40000 [==============================] - 1s 17us/sample - loss: 0.0105 - val_loss: 0.0105\n",
      "Epoch 98/200\n",
      "40000/40000 [==============================] - 1s 16us/sample - loss: 0.0105 - val_loss: 0.0106\n",
      "Epoch 99/200\n",
      "40000/40000 [==============================] - 1s 16us/sample - loss: 0.0105 - val_loss: 0.0105\n",
      "Epoch 100/200\n",
      "40000/40000 [==============================] - 1s 17us/sample - loss: 0.0105 - val_loss: 0.0105\n",
      "Epoch 101/200\n",
      "40000/40000 [==============================] - 1s 16us/sample - loss: 0.0104 - val_loss: 0.0105\n",
      "Epoch 102/200\n",
      "40000/40000 [==============================] - 1s 17us/sample - loss: 0.0104 - val_loss: 0.0105\n",
      "Epoch 103/200\n",
      "40000/40000 [==============================] - 1s 17us/sample - loss: 0.0104 - val_loss: 0.0105\n",
      "Epoch 104/200\n",
      "40000/40000 [==============================] - 1s 18us/sample - loss: 0.0104 - val_loss: 0.0105\n",
      "Epoch 105/200\n",
      "40000/40000 [==============================] - 1s 26us/sample - loss: 0.0104 - val_loss: 0.0105\n",
      "Epoch 106/200\n",
      "40000/40000 [==============================] - 2s 38us/sample - loss: 0.0104 - val_loss: 0.0105\n",
      "Epoch 107/200\n",
      "40000/40000 [==============================] - 1s 31us/sample - loss: 0.0104 - val_loss: 0.0105\n",
      "Epoch 108/200\n",
      "40000/40000 [==============================] - 1s 28us/sample - loss: 0.0104 - val_loss: 0.0105\n",
      "Epoch 109/200\n",
      "40000/40000 [==============================] - 1s 28us/sample - loss: 0.0104 - val_loss: 0.0105\n",
      "Epoch 110/200\n",
      "40000/40000 [==============================] - 1s 29us/sample - loss: 0.0104 - val_loss: 0.0105\n",
      "Epoch 111/200\n",
      "40000/40000 [==============================] - 1s 27us/sample - loss: 0.0104 - val_loss: 0.0105\n",
      "Epoch 112/200\n",
      "40000/40000 [==============================] - 1s 29us/sample - loss: 0.0104 - val_loss: 0.0104\n",
      "Epoch 113/200\n",
      "40000/40000 [==============================] - 1s 27us/sample - loss: 0.0104 - val_loss: 0.0104\n",
      "Epoch 114/200\n",
      "40000/40000 [==============================] - 1s 26us/sample - loss: 0.0104 - val_loss: 0.0105\n",
      "Epoch 115/200\n",
      "40000/40000 [==============================] - 1s 28us/sample - loss: 0.0104 - val_loss: 0.0104\n",
      "Epoch 116/200\n",
      "40000/40000 [==============================] - 1s 27us/sample - loss: 0.0104 - val_loss: 0.0105\n",
      "Epoch 117/200\n",
      "40000/40000 [==============================] - 1s 29us/sample - loss: 0.0104 - val_loss: 0.0104\n",
      "Epoch 118/200\n",
      "40000/40000 [==============================] - 1s 27us/sample - loss: 0.0104 - val_loss: 0.0105\n",
      "Epoch 119/200\n",
      "40000/40000 [==============================] - 1s 29us/sample - loss: 0.0104 - val_loss: 0.0104\n",
      "Epoch 120/200\n",
      "40000/40000 [==============================] - 1s 34us/sample - loss: 0.0104 - val_loss: 0.0104\n",
      "Epoch 121/200\n",
      "40000/40000 [==============================] - 1s 22us/sample - loss: 0.0104 - val_loss: 0.0104\n",
      "Epoch 122/200\n",
      "40000/40000 [==============================] - 1s 19us/sample - loss: 0.0104 - val_loss: 0.0104\n",
      "Epoch 123/200\n",
      "40000/40000 [==============================] - 1s 18us/sample - loss: 0.0104 - val_loss: 0.0104\n",
      "Epoch 124/200\n",
      "40000/40000 [==============================] - 1s 18us/sample - loss: 0.0104 - val_loss: 0.0105\n",
      "Epoch 125/200\n",
      "40000/40000 [==============================] - 1s 21us/sample - loss: 0.0103 - val_loss: 0.0104\n",
      "Epoch 126/200\n",
      "40000/40000 [==============================] - 1s 26us/sample - loss: 0.0104 - val_loss: 0.0104\n",
      "Epoch 127/200\n",
      "40000/40000 [==============================] - 1s 37us/sample - loss: 0.0103 - val_loss: 0.0104\n",
      "Epoch 128/200\n",
      "40000/40000 [==============================] - 1s 36us/sample - loss: 0.0103 - val_loss: 0.0104\n",
      "Epoch 129/200\n",
      "40000/40000 [==============================] - 1s 37us/sample - loss: 0.0103 - val_loss: 0.0104\n",
      "Epoch 130/200\n",
      "40000/40000 [==============================] - 1s 28us/sample - loss: 0.0103 - val_loss: 0.0104\n",
      "Epoch 131/200\n",
      "40000/40000 [==============================] - 1s 28us/sample - loss: 0.0103 - val_loss: 0.0104\n",
      "Epoch 132/200\n",
      "40000/40000 [==============================] - 1s 26us/sample - loss: 0.0103 - val_loss: 0.0104\n",
      "Epoch 133/200\n",
      "40000/40000 [==============================] - 1s 26us/sample - loss: 0.0103 - val_loss: 0.0104\n",
      "Epoch 134/200\n",
      "40000/40000 [==============================] - 1s 27us/sample - loss: 0.0103 - val_loss: 0.0104\n",
      "Epoch 135/200\n",
      "40000/40000 [==============================] - 1s 26us/sample - loss: 0.0103 - val_loss: 0.0104\n",
      "Epoch 136/200\n",
      "40000/40000 [==============================] - 1s 28us/sample - loss: 0.0103 - val_loss: 0.0104\n",
      "Epoch 137/200\n",
      "40000/40000 [==============================] - 1s 28us/sample - loss: 0.0103 - val_loss: 0.0104\n",
      "Epoch 138/200\n",
      "40000/40000 [==============================] - 1s 29us/sample - loss: 0.0103 - val_loss: 0.0104\n",
      "Epoch 139/200\n",
      "40000/40000 [==============================] - 1s 26us/sample - loss: 0.0103 - val_loss: 0.0104\n",
      "Epoch 140/200\n",
      "40000/40000 [==============================] - 1s 28us/sample - loss: 0.0103 - val_loss: 0.0104\n",
      "Epoch 141/200\n",
      "40000/40000 [==============================] - 1s 27us/sample - loss: 0.0103 - val_loss: 0.0104\n",
      "Epoch 142/200\n",
      "40000/40000 [==============================] - 1s 28us/sample - loss: 0.0103 - val_loss: 0.0104\n",
      "Epoch 143/200\n",
      "40000/40000 [==============================] - 1s 27us/sample - loss: 0.0103 - val_loss: 0.0104\n",
      "Epoch 144/200\n",
      "40000/40000 [==============================] - 1s 20us/sample - loss: 0.0103 - val_loss: 0.0104\n",
      "Epoch 145/200\n",
      "40000/40000 [==============================] - 1s 19us/sample - loss: 0.0103 - val_loss: 0.0104\n",
      "Epoch 146/200\n",
      "40000/40000 [==============================] - 1s 20us/sample - loss: 0.0103 - val_loss: 0.0104\n",
      "Epoch 147/200\n",
      "40000/40000 [==============================] - 1s 19us/sample - loss: 0.0103 - val_loss: 0.0104\n",
      "Epoch 148/200\n",
      "40000/40000 [==============================] - 1s 20us/sample - loss: 0.0103 - val_loss: 0.0103\n",
      "Epoch 149/200\n",
      "40000/40000 [==============================] - 1s 20us/sample - loss: 0.0103 - val_loss: 0.0104\n"
     ]
    },
    {
     "name": "stdout",
     "output_type": "stream",
     "text": [
      "Epoch 150/200\n",
      "40000/40000 [==============================] - 1s 16us/sample - loss: 0.0103 - val_loss: 0.0104\n",
      "Epoch 151/200\n",
      "40000/40000 [==============================] - 1s 16us/sample - loss: 0.0103 - val_loss: 0.0104\n",
      "Epoch 152/200\n",
      "40000/40000 [==============================] - 1s 16us/sample - loss: 0.0103 - val_loss: 0.0104\n",
      "Epoch 153/200\n",
      "40000/40000 [==============================] - 1s 16us/sample - loss: 0.0103 - val_loss: 0.0103\n",
      "Epoch 154/200\n",
      "40000/40000 [==============================] - 1s 16us/sample - loss: 0.0103 - val_loss: 0.0104\n",
      "Epoch 155/200\n",
      "40000/40000 [==============================] - 1s 16us/sample - loss: 0.0103 - val_loss: 0.0103\n",
      "Epoch 156/200\n",
      "40000/40000 [==============================] - 1s 16us/sample - loss: 0.0103 - val_loss: 0.0104\n",
      "Epoch 157/200\n",
      "40000/40000 [==============================] - 1s 16us/sample - loss: 0.0103 - val_loss: 0.0103\n",
      "Epoch 158/200\n",
      "40000/40000 [==============================] - 1s 15us/sample - loss: 0.0103 - val_loss: 0.0103\n",
      "Epoch 159/200\n",
      "40000/40000 [==============================] - 1s 17us/sample - loss: 0.0103 - val_loss: 0.0103\n",
      "Epoch 160/200\n",
      "40000/40000 [==============================] - 1s 17us/sample - loss: 0.0103 - val_loss: 0.0104\n",
      "Epoch 161/200\n",
      "40000/40000 [==============================] - 1s 16us/sample - loss: 0.0103 - val_loss: 0.0103\n",
      "Epoch 162/200\n",
      "40000/40000 [==============================] - 1s 15us/sample - loss: 0.0103 - val_loss: 0.0104\n",
      "Epoch 163/200\n",
      "40000/40000 [==============================] - 1s 16us/sample - loss: 0.0103 - val_loss: 0.0104\n",
      "Epoch 164/200\n",
      "40000/40000 [==============================] - 1s 16us/sample - loss: 0.0103 - val_loss: 0.0103\n",
      "Epoch 165/200\n",
      "40000/40000 [==============================] - 1s 18us/sample - loss: 0.0103 - val_loss: 0.0104\n",
      "Epoch 166/200\n",
      "40000/40000 [==============================] - 1s 16us/sample - loss: 0.0103 - val_loss: 0.0103\n",
      "Epoch 167/200\n",
      "40000/40000 [==============================] - 1s 16us/sample - loss: 0.0103 - val_loss: 0.0103\n",
      "Epoch 168/200\n",
      "40000/40000 [==============================] - 1s 17us/sample - loss: 0.0103 - val_loss: 0.0103\n",
      "Epoch 169/200\n",
      "40000/40000 [==============================] - 1s 16us/sample - loss: 0.0103 - val_loss: 0.0103\n",
      "Epoch 170/200\n",
      "40000/40000 [==============================] - 1s 16us/sample - loss: 0.0103 - val_loss: 0.0104\n",
      "Epoch 171/200\n",
      "40000/40000 [==============================] - 1s 18us/sample - loss: 0.0103 - val_loss: 0.0103\n",
      "Epoch 172/200\n",
      "40000/40000 [==============================] - 1s 17us/sample - loss: 0.0103 - val_loss: 0.0103\n",
      "Epoch 173/200\n",
      "40000/40000 [==============================] - 1s 16us/sample - loss: 0.0103 - val_loss: 0.0103\n",
      "Epoch 174/200\n",
      "40000/40000 [==============================] - 2s 38us/sample - loss: 0.0103 - val_loss: 0.0103\n",
      "Epoch 175/200\n",
      "40000/40000 [==============================] - 1s 29us/sample - loss: 0.0103 - val_loss: 0.0103\n",
      "Epoch 176/200\n",
      "40000/40000 [==============================] - 1s 27us/sample - loss: 0.0103 - val_loss: 0.0104\n",
      "Epoch 177/200\n",
      "40000/40000 [==============================] - 1s 28us/sample - loss: 0.0103 - val_loss: 0.0103\n",
      "Epoch 178/200\n",
      "40000/40000 [==============================] - 1s 26us/sample - loss: 0.0103 - val_loss: 0.0103\n",
      "Epoch 179/200\n",
      "40000/40000 [==============================] - 1s 26us/sample - loss: 0.0103 - val_loss: 0.0103\n",
      "Epoch 180/200\n",
      "40000/40000 [==============================] - 1s 26us/sample - loss: 0.0103 - val_loss: 0.0103\n",
      "Epoch 181/200\n",
      "40000/40000 [==============================] - 1s 25us/sample - loss: 0.0103 - val_loss: 0.0103\n",
      "Epoch 182/200\n",
      "40000/40000 [==============================] - 1s 26us/sample - loss: 0.0103 - val_loss: 0.0103\n",
      "Epoch 183/200\n",
      "40000/40000 [==============================] - 1s 28us/sample - loss: 0.0103 - val_loss: 0.0103\n",
      "Epoch 184/200\n",
      "40000/40000 [==============================] - 1s 30us/sample - loss: 0.0103 - val_loss: 0.0103\n",
      "Epoch 185/200\n",
      "40000/40000 [==============================] - 1s 35us/sample - loss: 0.0103 - val_loss: 0.0103\n",
      "Epoch 186/200\n",
      "40000/40000 [==============================] - 1s 32us/sample - loss: 0.0103 - val_loss: 0.0103\n",
      "Epoch 187/200\n",
      "40000/40000 [==============================] - 1s 35us/sample - loss: 0.0103 - val_loss: 0.0103\n",
      "Epoch 188/200\n",
      "40000/40000 [==============================] - 1s 30us/sample - loss: 0.0103 - val_loss: 0.0103\n",
      "Epoch 189/200\n",
      "40000/40000 [==============================] - 1s 34us/sample - loss: 0.0103 - val_loss: 0.0103\n",
      "Epoch 190/200\n",
      "40000/40000 [==============================] - 1s 27us/sample - loss: 0.0103 - val_loss: 0.0104\n",
      "Epoch 191/200\n",
      "40000/40000 [==============================] - 1s 26us/sample - loss: 0.0103 - val_loss: 0.0103\n",
      "Epoch 192/200\n",
      "40000/40000 [==============================] - 1s 27us/sample - loss: 0.0103 - val_loss: 0.0103\n",
      "Epoch 193/200\n",
      "40000/40000 [==============================] - 1s 28us/sample - loss: 0.0103 - val_loss: 0.0103\n",
      "Epoch 194/200\n",
      "40000/40000 [==============================] - 1s 29us/sample - loss: 0.0103 - val_loss: 0.0103\n",
      "Epoch 195/200\n",
      "40000/40000 [==============================] - 1s 32us/sample - loss: 0.0103 - val_loss: 0.0103\n",
      "Epoch 196/200\n",
      "40000/40000 [==============================] - 1s 36us/sample - loss: 0.0103 - val_loss: 0.0103\n",
      "Epoch 197/200\n",
      "40000/40000 [==============================] - 1s 30us/sample - loss: 0.0103 - val_loss: 0.0103\n",
      "Epoch 198/200\n",
      "40000/40000 [==============================] - 1s 23us/sample - loss: 0.0103 - val_loss: 0.0103\n",
      "Epoch 199/200\n",
      "40000/40000 [==============================] - 1s 24us/sample - loss: 0.0103 - val_loss: 0.0103\n",
      "Epoch 200/200\n",
      "40000/40000 [==============================] - 1s 27us/sample - loss: 0.0103 - val_loss: 0.0103\n"
     ]
    }
   ],
   "source": [
    "epochs=200\n",
    "batch_size = 128\n",
    "\n",
    "\n",
    "checkpointer = ModelCheckpoint(filepath=\"ae_model.h5\",\n",
    "                               verbose=0,\n",
    "                               save_best_only=True)\n",
    "\n",
    "tensorboard = TensorBoard(log_dir='logs',\n",
    "                          histogram_freq=0,\n",
    "                          write_graph=True,\n",
    "                          write_images=True)\n",
    "\n",
    "history = autoencoder.fit(scaled_train, scaled_train,\n",
    "                epochs=epochs,\n",
    "                batch_size=batch_size,\n",
    "                shuffle=True,\n",
    "                verbose = 1,\n",
    "                validation_data=(scaled_test, scaled_test),\n",
    "                callbacks=[checkpointer, tensorboard])"
   ]
  },
  {
   "cell_type": "code",
   "execution_count": 14,
   "metadata": {},
   "outputs": [
    {
     "name": "stdout",
     "output_type": "stream",
     "text": [
      "Result: \n",
      "Train loss:0.010254, Val loss:0.010333\n"
     ]
    },
    {
     "data": {
      "image/png": "[encoded data removed]",
      "text/plain": [
       "<Figure size 432x288 with 1 Axes>"
      ]
     },
     "metadata": {
      "needs_background": "light"
     },
     "output_type": "display_data"
    }
   ],
   "source": [
    "print (\"Result: \\nTrain loss:%f, Val loss:%f\" % (history.history[\"loss\"][epochs-1], history.history[\"val_loss\"][epochs-1]))\n",
    "# Make Train Loss and Validation Loss versus Epochs plot \n",
    "plot_loss(history)"
   ]
  },
  {
   "cell_type": "markdown",
   "metadata": {},
   "source": [
    "### Threshold Selection"
   ]
  },
  {
   "cell_type": "code",
   "execution_count": 15,
   "metadata": {},
   "outputs": [],
   "source": [
    "autoencoder = load_model('ae_model.h5')"
   ]
  },
  {
   "cell_type": "code",
   "execution_count": 16,
   "metadata": {},
   "outputs": [
    {
     "name": "stdout",
     "output_type": "stream",
     "text": [
      "MSE threshold: 0.032131270845197964\n"
     ]
    }
   ],
   "source": [
    "# compute reconstruction errors on train set\n",
    "predictions = autoencoder.predict(scaled_train)\n",
    "mse = np.mean(np.power(scaled_train - predictions, 2), axis=1)\n",
    "threshold = np.quantile(mse, (1-10/50000))\n",
    "print('MSE threshold:', threshold)"
   ]
  },
  {
   "cell_type": "markdown",
   "metadata": {},
   "source": [
    "### Prediction"
   ]
  },
  {
   "cell_type": "code",
   "execution_count": 65,
   "metadata": {},
   "outputs": [
    {
     "name": "stdout",
     "output_type": "stream",
     "text": [
      "['S', 'D', 'R', 'A', 'C', '5', 'R', 'F']\n",
      "['X', 'Y', 'D', 'C', '2', 'D', 'C', 'A']\n"
     ]
    }
   ],
   "source": [
    "# predict on test set\n",
    "predictions = autoencoder.predict(scaled_test)\n",
    "mse = np.mean(np.power(scaled_test - predictions, 2), axis=1)\n",
    "a = np.array(mse)\n",
    "anoms_idx = np.argwhere(a > threshold)\n",
    "#print(\"Indices:\",anoms_idx.ravel())\n",
    "anomalies = X_test[anoms_idx]\n",
    "for anom in anomalies:\n",
    "    print(decode_sequence_list(anom)[0])"
   ]
  },
  {
   "cell_type": "markdown",
   "metadata": {},
   "source": [
    "### Visualizing Latent Variables"
   ]
  },
  {
   "cell_type": "code",
   "execution_count": 64,
   "metadata": {},
   "outputs": [
    {
     "data": {
      "image/png": "[encoded data removed]",
      "text/plain": [
       "<Figure size 432x288 with 1 Axes>"
      ]
     },
     "metadata": {
      "needs_background": "light"
     },
     "output_type": "display_data"
    }
   ],
   "source": [
    "# Plot the latent varaibles\n",
    "hidden_layers = keras.backend.function(\n",
    "[autoencoder.layers[0].input],\n",
    "[autoencoder.layers[2].output]\n",
    ")\n",
    "latent_normals = hidden_layers([scaled_test[0:2]])[0]\n",
    "latent_anomalies = hidden_layers([scaled_test[anoms_idx].reshape(anoms_idx.shape[0],8)])[0]\n",
    "\n",
    "plt.scatter(latent_normals[0], latent_normals[1], alpha=0.5, label='Normal')\n",
    "plt.scatter(latent_anomalies[0], latent_anomalies[1], alpha=0.5, label='Anomaly')\n",
    "plt.legend()\n",
    "plt.show()"
   ]
  },
  {
   "cell_type": "markdown",
   "metadata": {},
   "source": [
    "### TensorBoard"
   ]
  },
  {
   "cell_type": "code",
   "execution_count": 66,
   "metadata": {},
   "outputs": [],
   "source": [
    "# Load the TensorBoard notebook extension\n",
    "#%load_ext tensorboard"
   ]
  },
  {
   "cell_type": "code",
   "execution_count": 67,
   "metadata": {},
   "outputs": [],
   "source": [
    "#%tensorboard --logdir logs"
   ]
  }
 ],
 "metadata": {
  "kernelspec": {
   "display_name": "Python 3",
   "language": "python",
   "name": "python3"
  },
  "language_info": {
   "codemirror_mode": {
    "name": "ipython",
    "version": 3
   },
   "file_extension": ".py",
   "mimetype": "text/x-python",
   "name": "python",
   "nbconvert_exporter": "python",
   "pygments_lexer": "ipython3",
   "version": "3.7.7"
  }
 },
 "nbformat": 4,
 "nbformat_minor": 2
}
