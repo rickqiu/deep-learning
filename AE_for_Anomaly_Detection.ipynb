{
 "cells": [
  {
   "cell_type": "markdown",
   "metadata": {},
   "source": [
    "# Autoencoder (AE) for Anomaly Detection\n",
    "\n",
    "**by Rick Qiu in May, 2020**"
   ]
  },
  {
   "cell_type": "code",
   "execution_count": 45,
   "metadata": {},
   "outputs": [
    {
     "name": "stdout",
     "output_type": "stream",
     "text": [
      "Once deleted, variables cannot be recovered. Proceed (y/[n])? y\n"
     ]
    }
   ],
   "source": [
    "%reset"
   ]
  },
  {
   "cell_type": "code",
   "execution_count": 46,
   "metadata": {},
   "outputs": [],
   "source": [
    "import random\n",
    "import numpy as np\n",
    "import pandas as pd\n",
    "from sklearn.model_selection import train_test_split\n",
    "from sklearn.preprocessing import StandardScaler, MinMaxScaler\n",
    "# Tensorflow\n",
    "import tensorflow as tf\n",
    "from tensorflow import keras\n",
    "from tensorflow.keras.optimizers import Adagrad, Adam\n",
    "from tensorflow.keras.models import Model, load_model\n",
    "from tensorflow.keras.layers import Input, Dense, Dropout, LSTM\n",
    "from tensorflow.keras.callbacks import ModelCheckpoint, TensorBoard\n",
    "from tensorflow.keras import regularizers\n",
    "from tensorflow.keras.utils import plot_model\n",
    "from tensorflow.keras.preprocessing.sequence import pad_sequences\n",
    "import matplotlib.pyplot as plt\n",
    "%matplotlib inline"
   ]
  },
  {
   "cell_type": "markdown",
   "metadata": {},
   "source": [
    "### Data generation"
   ]
  },
  {
   "cell_type": "code",
   "execution_count": 47,
   "metadata": {},
   "outputs": [
    {
     "name": "stdout",
     "output_type": "stream",
     "text": [
      "DBDE1LWM\n"
     ]
    }
   ],
   "source": [
    "# We refer alphabetic character sequence generation to Alon Agmon 2020\n",
    "# https://github.com/a-agmon/experiments/blob/master/Sequence_Anomaly_Detection-NN.ipynb\n",
    "def get_random_string():\n",
    "    # returns a string of the following format: \n",
    "    #[4 letters A-F][1 digit 0-2][3 letters QWOPZXML]\n",
    "    first_letters =  'ABCDEF'\n",
    "    second_numbers = '120'\n",
    "    last_letters = 'QWOPZXML'\n",
    "    str1 = ''.join(random.choice(first_letters) for i in range(4))\n",
    "    str2 = random.choice(second_numbers)\n",
    "    str3 = ''.join(random.choice(last_letters) for i in range(3))\n",
    "    return str1+str2+str3\n",
    "    \n",
    "print(get_random_string())"
   ]
  },
  {
   "cell_type": "code",
   "execution_count": 48,
   "metadata": {},
   "outputs": [],
   "source": [
    "def generate_data():\n",
    "    normals = 50000 - 10\n",
    "    random_sequences = [get_random_string() for i in range(normals)]\n",
    "    # add some anomalies to our list\n",
    "    random_sequences.extend(['XYDC2DCA', 'TXSX1ABC','RNIU4XRE','AABDXUEI','SDRAC5RF',\n",
    "                             'YXDC2DCB', 'XTSX1ABC','RNUI4XRE','TABDXAID','SERACDRF'])\n",
    "    return random_sequences"
   ]
  },
  {
   "cell_type": "code",
   "execution_count": 49,
   "metadata": {},
   "outputs": [
    {
     "name": "stdout",
     "output_type": "stream",
     "text": [
      "['ADEF1WXL', 'ADDC2PXL', 'DEBC1MQP', 'BFFF1OPQ', 'DDDF2LMW']\n"
     ]
    }
   ],
   "source": [
    "data = generate_data()\n",
    "print(data[0:5])"
   ]
  },
  {
   "cell_type": "markdown",
   "metadata": {},
   "source": [
    "### Data Preprocessing"
   ]
  },
  {
   "cell_type": "code",
   "execution_count": 50,
   "metadata": {},
   "outputs": [],
   "source": [
    "# We refer sequence encoding and decoding to Alon Agmon 2020\n",
    "# https://github.com/a-agmon/experiments/blob/master/Sequence_Anomaly_Detection-NN.ipynb\n",
    "#Build the char index that we will use to encode seqs to numbers\n",
    "char_index = '0abcdefghijklmnopqrstuvwxyz'\n",
    "char_index +='ABCDEFGHIJKLMNOPQRSTUVWXYZ'\n",
    "char_index += '123456789'\n",
    "char_index += '().,-/+=&$?@#!*:;_[]|%⸏{}\\\"\\'' + ' ' +'\\\\'\n",
    "\n",
    "char_to_int = dict((c, i) for i, c in enumerate(char_index))\n",
    "int_to_char = dict((i, c) for i, c in enumerate(char_index))\n",
    "\n",
    "#function that convert a char seqs to numbers seqs \n",
    "#(it does a little more but lets leave it for now)\n",
    "def encode_sequence_list(seqs, feat_n=0):\n",
    "    encoded_seqs = []\n",
    "    for seq in seqs:\n",
    "        encoded_seq = [char_to_int[c] for c in seq]\n",
    "        encoded_seqs.append(encoded_seq)\n",
    "    if(feat_n > 0):\n",
    "        encoded_seqs.append(np.zeros(feat_n))\n",
    "    return pad_sequences(encoded_seqs, padding='post')\n",
    "\n",
    "def decode_sequence_list(seqs):\n",
    "    decoded_seqs = []\n",
    "    for seq in seqs:\n",
    "        decoded_seq = [int_to_char[i] for i in seq]\n",
    "        decoded_seqs.append(decoded_seq)\n",
    "    return decoded_seqs"
   ]
  },
  {
   "cell_type": "code",
   "execution_count": 51,
   "metadata": {},
   "outputs": [
    {
     "name": "stdout",
     "output_type": "stream",
     "text": [
      "(50000, 8)\n",
      "[31 31 27 27  0 52 52 49]\n"
     ]
    }
   ],
   "source": [
    "# encode each string seq to an integer array [[1],[5],[67]], [[45],[76],[7]\n",
    "encoded_seqs = encode_sequence_list(data)\n",
    "# mix everything up\n",
    "np.random.shuffle(encoded_seqs)\n",
    "print(encoded_seqs.shape)\n",
    "print(encoded_seqs[10])"
   ]
  },
  {
   "cell_type": "code",
   "execution_count": 52,
   "metadata": {},
   "outputs": [],
   "source": [
    "# split dataset to train/test (80:20)\n",
    "X_train = encoded_seqs[:40000]\n",
    "X_test = encoded_seqs[40000:]\n",
    "\n",
    "# scale the data to a range [0.1]\n",
    "scaler = MinMaxScaler()\n",
    "scaler = scaler.fit(X_train)\n",
    "scaled_train  = scaler.transform(X_train)\n",
    "scaled_test = scaler.transform(X_test)"
   ]
  },
  {
   "cell_type": "markdown",
   "metadata": {},
   "source": [
    "### Autoencoder Model"
   ]
  },
  {
   "cell_type": "code",
   "execution_count": 53,
   "metadata": {},
   "outputs": [],
   "source": [
    "# Define the autoencoder\n",
    "def autoencoder_model():\n",
    "    # Encoder\n",
    "    input_data = Input(shape=(8,))\n",
    "    encoder = Dense(units=5,activation='relu')(input_data)\n",
    "    # Bottleneck\n",
    "    latent_output = Dense(units=2,activation='relu')(encoder)\n",
    "    # Decoder\n",
    "    decoder = Dense(units=5,activation='relu')(latent_output)\n",
    "    decoder = Dense(units=8,activation='linear')(decoder)\n",
    "    # Create Autoencoder model\n",
    "    autoencoder = Model(input_data,decoder)\n",
    "    return autoencoder"
   ]
  },
  {
   "cell_type": "code",
   "execution_count": 54,
   "metadata": {},
   "outputs": [],
   "source": [
    "# Define a function which plots training loss and validation loss across the different epochs.\n",
    "def plot_loss(history):\n",
    "    plt.xlabel('Epochs')\n",
    "    plt.ylabel('MSE')\n",
    "    # Plot train loss\n",
    "    plt.plot(history.history[\"loss\"], linewidth=2., label=\"train_loss\")\n",
    "    # Plot val_loss\n",
    "    plt.plot(history.history[\"val_loss\"],linewidth=2., label=\"val_loss\")\n",
    "    plt.legend()\n",
    "    plt.show()"
   ]
  },
  {
   "cell_type": "code",
   "execution_count": 55,
   "metadata": {},
   "outputs": [
    {
     "name": "stdout",
     "output_type": "stream",
     "text": [
      "Model: \"model_3\"\n",
      "_________________________________________________________________\n",
      "Layer (type)                 Output Shape              Param #   \n",
      "=================================================================\n",
      "input_4 (InputLayer)         [(None, 8)]               0         \n",
      "_________________________________________________________________\n",
      "dense_12 (Dense)             (None, 5)                 45        \n",
      "_________________________________________________________________\n",
      "dense_13 (Dense)             (None, 2)                 12        \n",
      "_________________________________________________________________\n",
      "dense_14 (Dense)             (None, 5)                 15        \n",
      "_________________________________________________________________\n",
      "dense_15 (Dense)             (None, 8)                 48        \n",
      "=================================================================\n",
      "Total params: 120\n",
      "Trainable params: 120\n",
      "Non-trainable params: 0\n",
      "_________________________________________________________________\n",
      "None\n"
     ]
    },
    {
     "data": {
      "image/png": "[encoded data removed]",
      "text/plain": [
       "<IPython.core.display.Image object>"
      ]
     },
     "execution_count": 55,
     "metadata": {},
     "output_type": "execute_result"
    }
   ],
   "source": [
    "# Instantiate and compile the model\n",
    "autoencoder = autoencoder_model()\n",
    "opt = Adam(learning_rate=0.001, decay=1e-5)\n",
    "autoencoder.compile(optimizer=opt,loss='mean_squared_error')\n",
    "print(autoencoder.summary())\n",
    "plot_model(autoencoder, to_file='autoencoder.png', show_shapes=True)"
   ]
  },
  {
   "cell_type": "markdown",
   "metadata": {},
   "source": [
    "### Model Training"
   ]
  },
  {
   "cell_type": "code",
   "execution_count": 56,
   "metadata": {},
   "outputs": [
    {
     "name": "stdout",
     "output_type": "stream",
     "text": [
      "Train on 40000 samples, validate on 10000 samples\n",
      "Epoch 1/100\n",
      "40000/40000 [==============================] - 1s 21us/sample - loss: 0.0970 - val_loss: 0.0351\n",
      "Epoch 2/100\n",
      "40000/40000 [==============================] - 0s 11us/sample - loss: 0.0331 - val_loss: 0.0304\n",
      "Epoch 3/100\n",
      "40000/40000 [==============================] - 0s 11us/sample - loss: 0.0277 - val_loss: 0.0241\n",
      "Epoch 4/100\n",
      "40000/40000 [==============================] - 0s 12us/sample - loss: 0.0216 - val_loss: 0.0193\n",
      "Epoch 5/100\n",
      "40000/40000 [==============================] - 0s 11us/sample - loss: 0.0184 - val_loss: 0.0177\n",
      "Epoch 6/100\n",
      "40000/40000 [==============================] - ETA: 0s - loss: 0.017 - 0s 11us/sample - loss: 0.0175 - val_loss: 0.0173\n",
      "Epoch 7/100\n",
      "40000/40000 [==============================] - 0s 11us/sample - loss: 0.0173 - val_loss: 0.0171\n",
      "Epoch 8/100\n",
      "40000/40000 [==============================] - 0s 11us/sample - loss: 0.0171 - val_loss: 0.0169\n",
      "Epoch 9/100\n",
      "40000/40000 [==============================] - 1s 13us/sample - loss: 0.0169 - val_loss: 0.0168\n",
      "Epoch 10/100\n",
      "40000/40000 [==============================] - 0s 12us/sample - loss: 0.0167 - val_loss: 0.0166\n",
      "Epoch 11/100\n",
      "40000/40000 [==============================] - 0s 12us/sample - loss: 0.0165 - val_loss: 0.0163\n",
      "Epoch 12/100\n",
      "40000/40000 [==============================] - 0s 12us/sample - loss: 0.0163 - val_loss: 0.0160\n",
      "Epoch 13/100\n",
      "40000/40000 [==============================] - 1s 17us/sample - loss: 0.0160 - val_loss: 0.0157\n",
      "Epoch 14/100\n",
      "40000/40000 [==============================] - 1s 21us/sample - loss: 0.0156 - val_loss: 0.0154\n",
      "Epoch 15/100\n",
      "40000/40000 [==============================] - 1s 16us/sample - loss: 0.0153 - val_loss: 0.0150\n",
      "Epoch 16/100\n",
      "40000/40000 [==============================] - 0s 12us/sample - loss: 0.0149 - val_loss: 0.0146\n",
      "Epoch 17/100\n",
      "40000/40000 [==============================] - 0s 11us/sample - loss: 0.0145 - val_loss: 0.0141\n",
      "Epoch 18/100\n",
      "40000/40000 [==============================] - 0s 11us/sample - loss: 0.0140 - val_loss: 0.0136\n",
      "Epoch 19/100\n",
      "40000/40000 [==============================] - 0s 12us/sample - loss: 0.0135 - val_loss: 0.0131\n",
      "Epoch 20/100\n",
      "40000/40000 [==============================] - 0s 12us/sample - loss: 0.0131 - val_loss: 0.0128\n",
      "Epoch 21/100\n",
      "40000/40000 [==============================] - 0s 12us/sample - loss: 0.0128 - val_loss: 0.0126\n",
      "Epoch 22/100\n",
      "40000/40000 [==============================] - 0s 12us/sample - loss: 0.0126 - val_loss: 0.0123\n",
      "Epoch 23/100\n",
      "40000/40000 [==============================] - 1s 13us/sample - loss: 0.0125 - val_loss: 0.0122\n",
      "Epoch 24/100\n",
      "40000/40000 [==============================] - 1s 21us/sample - loss: 0.0124 - val_loss: 0.0122\n",
      "Epoch 25/100\n",
      "40000/40000 [==============================] - 1s 13us/sample - loss: 0.0123 - val_loss: 0.0120\n",
      "Epoch 26/100\n",
      "40000/40000 [==============================] - 0s 12us/sample - loss: 0.0122 - val_loss: 0.0120\n",
      "Epoch 27/100\n",
      "40000/40000 [==============================] - 0s 12us/sample - loss: 0.0121 - val_loss: 0.0119\n",
      "Epoch 28/100\n",
      "40000/40000 [==============================] - 0s 12us/sample - loss: 0.0121 - val_loss: 0.0118\n",
      "Epoch 29/100\n",
      "40000/40000 [==============================] - 0s 12us/sample - loss: 0.0117 - val_loss: 0.0109\n",
      "Epoch 30/100\n",
      "40000/40000 [==============================] - 0s 12us/sample - loss: 0.0107 - val_loss: 0.0103\n",
      "Epoch 31/100\n",
      "40000/40000 [==============================] - 1s 13us/sample - loss: 0.0103 - val_loss: 0.0100\n",
      "Epoch 32/100\n",
      "40000/40000 [==============================] - 0s 12us/sample - loss: 0.0100 - val_loss: 0.0098\n",
      "Epoch 33/100\n",
      "40000/40000 [==============================] - 1s 15us/sample - loss: 0.0099 - val_loss: 0.0096\n",
      "Epoch 34/100\n",
      "40000/40000 [==============================] - 1s 13us/sample - loss: 0.0097 - val_loss: 0.0095\n",
      "Epoch 35/100\n",
      "40000/40000 [==============================] - 1s 13us/sample - loss: 0.0096 - val_loss: 0.0094\n",
      "Epoch 36/100\n",
      "40000/40000 [==============================] - 1s 15us/sample - loss: 0.0095 - val_loss: 0.0092\n",
      "Epoch 37/100\n",
      "40000/40000 [==============================] - 1s 14us/sample - loss: 0.0093 - val_loss: 0.0091\n",
      "Epoch 38/100\n",
      "40000/40000 [==============================] - 1s 19us/sample - loss: 0.0092 - val_loss: 0.0090\n",
      "Epoch 39/100\n",
      "40000/40000 [==============================] - 1s 17us/sample - loss: 0.0091 - val_loss: 0.0089\n",
      "Epoch 40/100\n",
      "40000/40000 [==============================] - 0s 12us/sample - loss: 0.0091 - val_loss: 0.0089\n",
      "Epoch 41/100\n",
      "40000/40000 [==============================] - 0s 12us/sample - loss: 0.0090 - val_loss: 0.0088\n",
      "Epoch 42/100\n",
      "40000/40000 [==============================] - 1s 13us/sample - loss: 0.0089 - val_loss: 0.0087\n",
      "Epoch 43/100\n",
      "40000/40000 [==============================] - 1s 13us/sample - loss: 0.0089 - val_loss: 0.0087\n",
      "Epoch 44/100\n",
      "40000/40000 [==============================] - 1s 13us/sample - loss: 0.0088 - val_loss: 0.0086\n",
      "Epoch 45/100\n",
      "40000/40000 [==============================] - 1s 13us/sample - loss: 0.0088 - val_loss: 0.0086\n",
      "Epoch 46/100\n",
      "40000/40000 [==============================] - 1s 13us/sample - loss: 0.0088 - val_loss: 0.0086\n",
      "Epoch 47/100\n",
      "40000/40000 [==============================] - 1s 14us/sample - loss: 0.0087 - val_loss: 0.0085\n",
      "Epoch 48/100\n",
      "40000/40000 [==============================] - 1s 14us/sample - loss: 0.0087 - val_loss: 0.0085\n",
      "Epoch 49/100\n",
      "40000/40000 [==============================] - 1s 20us/sample - loss: 0.0087 - val_loss: 0.0085\n",
      "Epoch 50/100\n",
      "40000/40000 [==============================] - 1s 15us/sample - loss: 0.0087 - val_loss: 0.0085\n",
      "Epoch 51/100\n",
      "40000/40000 [==============================] - 0s 12us/sample - loss: 0.0087 - val_loss: 0.0085\n",
      "Epoch 52/100\n",
      "40000/40000 [==============================] - 0s 11us/sample - loss: 0.0086 - val_loss: 0.0085\n",
      "Epoch 53/100\n",
      "40000/40000 [==============================] - 0s 10us/sample - loss: 0.0086 - val_loss: 0.0084\n",
      "Epoch 54/100\n",
      "40000/40000 [==============================] - 0s 10us/sample - loss: 0.0086 - val_loss: 0.0084\n",
      "Epoch 55/100\n",
      "40000/40000 [==============================] - 0s 10us/sample - loss: 0.0086 - val_loss: 0.0084\n",
      "Epoch 56/100\n",
      "40000/40000 [==============================] - 0s 11us/sample - loss: 0.0086 - val_loss: 0.0084\n",
      "Epoch 57/100\n",
      "40000/40000 [==============================] - 0s 11us/sample - loss: 0.0086 - val_loss: 0.0084\n",
      "Epoch 58/100\n",
      "40000/40000 [==============================] - 1s 18us/sample - loss: 0.0086 - val_loss: 0.0084\n",
      "Epoch 59/100\n",
      "40000/40000 [==============================] - 1s 20us/sample - loss: 0.0086 - val_loss: 0.0084\n",
      "Epoch 60/100\n",
      "40000/40000 [==============================] - 1s 17us/sample - loss: 0.0086 - val_loss: 0.0084\n",
      "Epoch 61/100\n",
      "40000/40000 [==============================] - 1s 24us/sample - loss: 0.0086 - val_loss: 0.0084\n",
      "Epoch 62/100\n",
      "40000/40000 [==============================] - 1s 20us/sample - loss: 0.0085 - val_loss: 0.0084\n",
      "Epoch 63/100\n",
      "40000/40000 [==============================] - 1s 15us/sample - loss: 0.0085 - val_loss: 0.0083\n",
      "Epoch 64/100\n",
      "40000/40000 [==============================] - 1s 13us/sample - loss: 0.0085 - val_loss: 0.0083\n",
      "Epoch 65/100\n",
      "40000/40000 [==============================] - 1s 15us/sample - loss: 0.0085 - val_loss: 0.0083\n",
      "Epoch 66/100\n",
      "40000/40000 [==============================] - 1s 21us/sample - loss: 0.0085 - val_loss: 0.0083\n",
      "Epoch 67/100\n",
      "40000/40000 [==============================] - 1s 18us/sample - loss: 0.0085 - val_loss: 0.0083\n",
      "Epoch 68/100\n",
      "40000/40000 [==============================] - 1s 16us/sample - loss: 0.0085 - val_loss: 0.0084\n",
      "Epoch 69/100\n",
      "40000/40000 [==============================] - 1s 17us/sample - loss: 0.0085 - val_loss: 0.0083\n",
      "Epoch 70/100\n",
      "40000/40000 [==============================] - 1s 17us/sample - loss: 0.0085 - val_loss: 0.0083\n",
      "Epoch 71/100\n",
      "40000/40000 [==============================] - 1s 16us/sample - loss: 0.0085 - val_loss: 0.0083\n",
      "Epoch 72/100\n",
      "40000/40000 [==============================] - 1s 18us/sample - loss: 0.0085 - val_loss: 0.0083\n",
      "Epoch 73/100\n",
      "40000/40000 [==============================] - 1s 18us/sample - loss: 0.0085 - val_loss: 0.0083\n",
      "Epoch 74/100\n",
      "40000/40000 [==============================] - 1s 19us/sample - loss: 0.0085 - val_loss: 0.0083\n",
      "Epoch 75/100\n",
      "40000/40000 [==============================] - 1s 18us/sample - loss: 0.0085 - val_loss: 0.0083\n",
      "Epoch 76/100\n",
      "40000/40000 [==============================] - 1s 13us/sample - loss: 0.0085 - val_loss: 0.0083\n",
      "Epoch 77/100\n",
      "40000/40000 [==============================] - 0s 11us/sample - loss: 0.0085 - val_loss: 0.0083\n",
      "Epoch 78/100\n",
      "40000/40000 [==============================] - 0s 11us/sample - loss: 0.0085 - val_loss: 0.0083\n",
      "Epoch 79/100\n",
      "40000/40000 [==============================] - 0s 11us/sample - loss: 0.0085 - val_loss: 0.0083\n",
      "Epoch 80/100\n",
      "40000/40000 [==============================] - 0s 12us/sample - loss: 0.0085 - val_loss: 0.0083\n",
      "Epoch 81/100\n",
      "40000/40000 [==============================] - 0s 11us/sample - loss: 0.0085 - val_loss: 0.0083\n",
      "Epoch 82/100\n",
      "40000/40000 [==============================] - 0s 11us/sample - loss: 0.0084 - val_loss: 0.0083\n",
      "Epoch 83/100\n",
      "40000/40000 [==============================] - 0s 12us/sample - loss: 0.0084 - val_loss: 0.0083\n",
      "Epoch 84/100\n",
      "40000/40000 [==============================] - 1s 13us/sample - loss: 0.0084 - val_loss: 0.0083\n",
      "Epoch 85/100\n",
      "40000/40000 [==============================] - 0s 11us/sample - loss: 0.0084 - val_loss: 0.0083\n",
      "Epoch 86/100\n",
      "40000/40000 [==============================] - 0s 12us/sample - loss: 0.0084 - val_loss: 0.0083\n",
      "Epoch 87/100\n",
      "40000/40000 [==============================] - 0s 12us/sample - loss: 0.0084 - val_loss: 0.0082\n",
      "Epoch 88/100\n",
      "40000/40000 [==============================] - 0s 12us/sample - loss: 0.0084 - val_loss: 0.0082\n",
      "Epoch 89/100\n",
      "40000/40000 [==============================] - 0s 12us/sample - loss: 0.0084 - val_loss: 0.0083\n",
      "Epoch 90/100\n",
      "40000/40000 [==============================] - 1s 14us/sample - loss: 0.0084 - val_loss: 0.0083\n",
      "Epoch 91/100\n",
      "40000/40000 [==============================] - 0s 12us/sample - loss: 0.0084 - val_loss: 0.0082\n",
      "Epoch 92/100\n",
      "40000/40000 [==============================] - 0s 11us/sample - loss: 0.0084 - val_loss: 0.0082\n",
      "Epoch 93/100\n",
      "40000/40000 [==============================] - 0s 12us/sample - loss: 0.0084 - val_loss: 0.0082\n",
      "Epoch 94/100\n",
      "40000/40000 [==============================] - 1s 14us/sample - loss: 0.0084 - val_loss: 0.0082\n",
      "Epoch 95/100\n",
      "40000/40000 [==============================] - 1s 13us/sample - loss: 0.0084 - val_loss: 0.0083\n",
      "Epoch 96/100\n",
      "40000/40000 [==============================] - 1s 21us/sample - loss: 0.0084 - val_loss: 0.0082\n",
      "Epoch 97/100\n",
      "40000/40000 [==============================] - 1s 17us/sample - loss: 0.0084 - val_loss: 0.0082\n",
      "Epoch 98/100\n",
      "40000/40000 [==============================] - 1s 13us/sample - loss: 0.0084 - val_loss: 0.0082\n",
      "Epoch 99/100\n",
      "40000/40000 [==============================] - 1s 14us/sample - loss: 0.0084 - val_loss: 0.0082\n",
      "Epoch 100/100\n",
      "40000/40000 [==============================] - 1s 14us/sample - loss: 0.0084 - val_loss: 0.0082\n"
     ]
    }
   ],
   "source": [
    "epochs=100\n",
    "batch_size = 128\n",
    "\n",
    "\n",
    "checkpointer = ModelCheckpoint(filepath=\"ae_model.h5\",\n",
    "                               verbose=0,\n",
    "                               save_best_only=True)\n",
    "\n",
    "tensorboard = TensorBoard(log_dir='logs',\n",
    "                          histogram_freq=0,\n",
    "                          write_graph=True,\n",
    "                          write_images=True)\n",
    "\n",
    "history = autoencoder.fit(scaled_train, scaled_train,\n",
    "                epochs=epochs,\n",
    "                batch_size=batch_size,\n",
    "                shuffle=True,\n",
    "                verbose = 1,\n",
    "                validation_data=(scaled_test, scaled_test),\n",
    "                callbacks=[checkpointer, tensorboard])"
   ]
  },
  {
   "cell_type": "code",
   "execution_count": 57,
   "metadata": {},
   "outputs": [
    {
     "name": "stdout",
     "output_type": "stream",
     "text": [
      "Result: \n",
      "Train loss:0.008405, Val loss:0.008223\n"
     ]
    },
    {
     "data": {
      "image/png": "[encoded data removed]",
      "text/plain": [
       "<Figure size 432x288 with 1 Axes>"
      ]
     },
     "metadata": {
      "needs_background": "light"
     },
     "output_type": "display_data"
    }
   ],
   "source": [
    "print (\"Result: \\nTrain loss:%f, Val loss:%f\" % (history.history[\"loss\"][epochs-1], history.history[\"val_loss\"][epochs-1]))\n",
    "# Make Train Loss and Validation Loss versus Epochs plot \n",
    "plot_loss(history)"
   ]
  },
  {
   "cell_type": "markdown",
   "metadata": {},
   "source": [
    "### Threshold Selection"
   ]
  },
  {
   "cell_type": "code",
   "execution_count": 58,
   "metadata": {},
   "outputs": [],
   "source": [
    "autoencoder = load_model('ae_model.h5')"
   ]
  },
  {
   "cell_type": "code",
   "execution_count": 61,
   "metadata": {},
   "outputs": [
    {
     "name": "stdout",
     "output_type": "stream",
     "text": [
      "Thresold MSE: 0.0759942763515576\n"
     ]
    }
   ],
   "source": [
    "# compute recontruction errors on train set\n",
    "predictions = autoencoder.predict(scaled_train)\n",
    "mse = np.mean(np.power(scaled_train - predictions, 2), axis=1)\n",
    "threshold = np.quantile(mse, 0.99984)\n",
    "print('Thresold MSE:', threshold)"
   ]
  },
  {
   "cell_type": "markdown",
   "metadata": {},
   "source": [
    "### Prediction"
   ]
  },
  {
   "cell_type": "code",
   "execution_count": 62,
   "metadata": {},
   "outputs": [
    {
     "name": "stdout",
     "output_type": "stream",
     "text": [
      "['X', 'Y', 'D', 'C', '2', 'D', 'C', 'A']\n",
      "['Y', 'X', 'D', 'C', '2', 'D', 'C', 'B']\n"
     ]
    }
   ],
   "source": [
    "# predict on test set\n",
    "predictions = autoencoder.predict(scaled_test)\n",
    "mse = np.mean(np.power(scaled_test - predictions, 2), axis=1)\n",
    "a = np.array(mse)\n",
    "anoms_idx = np.argwhere(a > threshold)\n",
    "anomalies = X_test[anoms_idx]\n",
    "for anom in anomalies:\n",
    "    print(decode_sequence_list(anom)[0])"
   ]
  },
  {
   "cell_type": "markdown",
   "metadata": {},
   "source": [
    "### TensorBoard"
   ]
  },
  {
   "cell_type": "code",
   "execution_count": 66,
   "metadata": {},
   "outputs": [],
   "source": [
    "# Load the TensorBoard notebook extension\n",
    "#%load_ext tensorboard"
   ]
  },
  {
   "cell_type": "code",
   "execution_count": 67,
   "metadata": {},
   "outputs": [],
   "source": [
    "#%tensorboard --logdir logs"
   ]
  }
 ],
 "metadata": {
  "kernelspec": {
   "display_name": "Python 3",
   "language": "python",
   "name": "python3"
  },
  "language_info": {
   "codemirror_mode": {
    "name": "ipython",
    "version": 3
   },
   "file_extension": ".py",
   "mimetype": "text/x-python",
   "name": "python",
   "nbconvert_exporter": "python",
   "pygments_lexer": "ipython3",
   "version": "3.7.7"
  }
 },
 "nbformat": 4,
 "nbformat_minor": 2
}
