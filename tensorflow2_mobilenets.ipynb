{
  "nbformat": 4,
  "nbformat_minor": 0,
  "metadata": {
    "accelerator": "GPU",
    "colab": {
      "name": "assignment3_final_tensorflow2.ipynb",
      "provenance": [],
      "collapsed_sections": [],
      "machine_shape": "hm",
      "include_colab_link": true
    },
    "kernelspec": {
      "display_name": "Python 3",
      "language": "python",
      "name": "python3"
    },
    "language_info": {
      "codemirror_mode": {
        "name": "ipython",
        "version": 3
      },
      "file_extension": ".py",
      "mimetype": "text/x-python",
      "name": "python",
      "nbconvert_exporter": "python",
      "pygments_lexer": "ipython3",
      "version": "3.7.7"
    }
  },
  "cells": [
    {
      "cell_type": "markdown",
      "metadata": {
        "id": "view-in-github",
        "colab_type": "text"
      },
      "source": [
        "<a href=\"https://colab.research.google.com/github/rickqiu/deep-learning/blob/master/tensorflow2_mobilenets.ipynb\" target=\"_parent\"><img src=\"https://colab.research.google.com/assets/colab-badge.svg\" alt=\"Open In Colab\"/></a>"
      ]
    },
    {
      "cell_type": "markdown",
      "metadata": {
        "colab_type": "text",
        "id": "zKVpjjWx3vFt"
      },
      "source": [
        "# TensorFlow2 - MobileNets: A Pre-trained Multiclass Classifier"
      ]
    },
    {
      "cell_type": "markdown",
      "metadata": {
        "colab_type": "text",
        "id": "7y-LVJi23vFt"
      },
      "source": [
        "MobileNets are lightweight deep neural networks that are suitable for mobile and embedded vision applications (Howard et al., 2017). Computer Vision (CV) engineers often utilize transfer learning techniques to perform CV tasks with pre-trained convolutional neural networks (CNN). \n",
        "\n",
        "Keras Fashion-MNIST is a toy dataset which consists of images of clothing. The data has a training set of 60,000 28x28 grayscale images of 10 fashion categories, along with a testing set of 10,000 images. A dictionary key is defined below with the corresponding class name for each of the integer encoded values in y_train and y_test."
      ]
    },
    {
      "cell_type": "code",
      "metadata": {
        "colab_type": "code",
        "id": "rMQG72nD3vF6",
        "colab": {}
      },
      "source": [
        "key = {0:\"T-shirt/top\",1:\"Trouser\",2:\"Pullover\",3:\"Dress\",4:\"Coat\", 5:\"Sandal\",6:\"Shirt\",7:\"Sneaker\",8:\"Bag\",9:\"Ankle boot\"}"
      ],
      "execution_count": 0,
      "outputs": []
    },
    {
      "cell_type": "code",
      "metadata": {
        "colab_type": "code",
        "id": "z-Buiws8JYHR",
        "colab": {}
      },
      "source": [
        "import numpy as np\n",
        "import cv2\n",
        "import matplotlib.pyplot as plt\n",
        "\n",
        "import tensorflow as tf\n",
        "from tensorflow.keras.preprocessing.image import ImageDataGenerator\n",
        "from tensorflow.keras.datasets import fashion_mnist\n",
        "from tensorflow.keras.applications.mobilenet import MobileNet\n",
        "from tensorflow.keras.layers import Input,Reshape,Dense,Dropout,Lambda,GlobalAveragePooling2D,Activation,BatchNormalization\n",
        "from tensorflow.keras.models import load_model,Model"
      ],
      "execution_count": 0,
      "outputs": []
    },
    {
      "cell_type": "markdown",
      "metadata": {
        "id": "DO--YybO92Vp",
        "colab_type": "text"
      },
      "source": [
        "## Data preprocessing"
      ]
    },
    {
      "cell_type": "code",
      "metadata": {
        "colab_type": "code",
        "id": "COHjZVxjP3nk",
        "outputId": "aad416ea-67e4-4231-861e-01e74f366090",
        "colab": {
          "base_uri": "https://localhost:8080/",
          "height": 187
        }
      },
      "source": [
        "# Load data sets\n",
        "(X_train, y_train), (X_test, y_test) = tf.keras.datasets.fashion_mnist.load_data()\n",
        "print(X_train.shape)\n",
        "print(X_test.shape)"
      ],
      "execution_count": 3,
      "outputs": [
        {
          "output_type": "stream",
          "text": [
            "Downloading data from https://storage.googleapis.com/tensorflow/tf-keras-datasets/train-labels-idx1-ubyte.gz\n",
            "32768/29515 [=================================] - 0s 0us/step\n",
            "Downloading data from https://storage.googleapis.com/tensorflow/tf-keras-datasets/train-images-idx3-ubyte.gz\n",
            "26427392/26421880 [==============================] - 0s 0us/step\n",
            "Downloading data from https://storage.googleapis.com/tensorflow/tf-keras-datasets/t10k-labels-idx1-ubyte.gz\n",
            "8192/5148 [===============================================] - 0s 0us/step\n",
            "Downloading data from https://storage.googleapis.com/tensorflow/tf-keras-datasets/t10k-images-idx3-ubyte.gz\n",
            "4423680/4422102 [==============================] - 0s 0us/step\n",
            "(60000, 28, 28)\n",
            "(10000, 28, 28)\n"
          ],
          "name": "stdout"
        }
      ]
    },
    {
      "cell_type": "code",
      "metadata": {
        "colab_type": "code",
        "id": "tUuojnlRaeVd",
        "colab": {}
      },
      "source": [
        "# Set the input image dimension\n",
        "height,width = 56,56\n",
        "\n",
        "# Resize the image size to (56, 56)\n",
        "X_train = X_train.reshape((-1, 28, 28))\n",
        "X_train = np.array([cv2.resize(x, dsize=(height, width)).astype(float) for x in iter(X_train)])\n",
        "X_train = X_train.reshape((X_train.shape[0], height, width, 1))\n",
        "\n",
        "X_test = X_test.reshape((-1,28,28))\n",
        "X_test = np.array([cv2.resize(x, dsize=(height, width)).astype(float) for x in iter(X_test)])\n",
        "X_test = X_test.reshape((X_test.shape[0], height, width, 1))"
      ],
      "execution_count": 0,
      "outputs": []
    },
    {
      "cell_type": "code",
      "metadata": {
        "colab_type": "code",
        "id": "3q-lZOaXzUWY",
        "colab": {}
      },
      "source": [
        "# One-hot encoding on y\n",
        "y_binary_train = tf.one_hot(y_train,10)\n",
        "y_binary_test = tf.one_hot(y_test,10)"
      ],
      "execution_count": 0,
      "outputs": []
    },
    {
      "cell_type": "code",
      "metadata": {
        "colab_type": "code",
        "id": "JZiCC2f5REAn",
        "colab": {}
      },
      "source": [
        "# Define Image Data Generator for training set\n",
        "train_datagen = ImageDataGenerator(rescale=1./255,\n",
        "                                   rotation_range=5,\n",
        "                                   shear_range=0.1,\n",
        "                                   zoom_range=0.1, \n",
        "                                   horizontal_flip=True)\n",
        "\n",
        "# Define Image Generator for test set\n",
        "test_datagen = ImageDataGenerator(rescale=1./255)"
      ],
      "execution_count": 0,
      "outputs": []
    },
    {
      "cell_type": "code",
      "metadata": {
        "id": "0zfqFzrc5HYF",
        "colab_type": "code",
        "outputId": "58e6d7bf-abae-4778-eb0e-1d4422acfb8a",
        "colab": {
          "base_uri": "https://localhost:8080/",
          "height": 269
        }
      },
      "source": [
        "# configure batch size and retrieve one batch of images\n",
        "for X_batch, y_batch in train_datagen.flow(X_train, y_binary_train, batch_size=9, seed=42):\n",
        "    # create a grid of 3x3 images\n",
        "    for i in range(0, 9):\n",
        "        plt.subplot(330 + 1 + i)\n",
        "        plt.imshow(X_batch[i].reshape(56, 56), cmap=plt.get_cmap('gray'))\n",
        "    # show the plot\n",
        "    plt.show()\n",
        "    break\t"
      ],
      "execution_count": 7,
      "outputs": [
        {
          "output_type": "display_data",
          "data": {
            "image/png": "[encoded data removed]",
            "text/plain": [
              "<Figure size 432x288 with 9 Axes>"
            ]
          },
          "metadata": {
            "tags": [],
            "needs_background": "light"
          }
        }
      ]
    },
    {
      "cell_type": "markdown",
      "metadata": {
        "id": "BrqPq-V49-OU",
        "colab_type": "text"
      },
      "source": [
        "## Modelling"
      ]
    },
    {
      "cell_type": "code",
      "metadata": {
        "colab_type": "code",
        "id": "DDF3LXJuQVzC",
        "colab": {}
      },
      "source": [
        "# Define mobile networks\n",
        "def mobile_net(height, width):\n",
        "  \n",
        "  # Define Input layer\n",
        "  input_image = Input(shape=(height, width, 1))\n",
        "  \n",
        "  # Add a Reshape layer\n",
        "  input_image1 = Reshape((height, width), input_shape=(height, width, 1))(input_image)\n",
        "  \n",
        "  # Add Lambda layer to expand the image channel to 3\n",
        "  input_image_ = Lambda(lambda x: tf.keras.backend.repeat_elements(tf.keras.backend.expand_dims(x,3),3,3))(input_image1)\n",
        "  \n",
        "  # Create a base model from MobileNet with pre-trained weights\n",
        "  base_model = MobileNet(input_tensor=input_image_, weights='imagenet', include_top=False)\n",
        "\n",
        "  # Add a avg pooling layer\n",
        "  x = GlobalAveragePooling2D()(base_model.output)\n",
        "\n",
        "  # Add a fully connected layer\n",
        "  x = Dense(1000)(x)\n",
        "  x = BatchNormalization()(x)\n",
        "  x = Activation('relu')(x)\n",
        "  x = Dropout(0.5)(x)\n",
        "  \n",
        "  # Add output layer\n",
        "  output = Dense(10, activation='softmax')(x)\n",
        "\n",
        "  model = Model(inputs=input_image, outputs=output)\n",
        "  return model"
      ],
      "execution_count": 0,
      "outputs": []
    },
    {
      "cell_type": "code",
      "metadata": {
        "colab_type": "code",
        "id": "bW3bizzW9WwW",
        "outputId": "ef6656f7-877b-4a66-dc9e-42f974a2e416",
        "colab": {
          "base_uri": "https://localhost:8080/",
          "height": 1000
        }
      },
      "source": [
        "# Instantiate a model\n",
        "model = mobile_net(height, width)\n",
        "# Show model summary\n",
        "model.summary()"
      ],
      "execution_count": 9,
      "outputs": [
        {
          "output_type": "stream",
          "text": [
            "WARNING:tensorflow:`input_shape` is undefined or non-square, or `rows` is not in [128, 160, 192, 224]. Weights for input shape (224, 224) will be loaded as the default.\n",
            "Downloading data from https://storage.googleapis.com/tensorflow/keras-applications/mobilenet/mobilenet_1_0_224_tf_no_top.h5\n",
            "17227776/17225924 [==============================] - 0s 0us/step\n",
            "Model: \"model\"\n",
            "_________________________________________________________________\n",
            "Layer (type)                 Output Shape              Param #   \n",
            "=================================================================\n",
            "input_1 (InputLayer)         [(None, 56, 56, 1)]       0         \n",
            "_________________________________________________________________\n",
            "reshape (Reshape)            (None, 56, 56)            0         \n",
            "_________________________________________________________________\n",
            "lambda (Lambda)              (None, 56, 56, 3)         0         \n",
            "_________________________________________________________________\n",
            "conv1_pad (ZeroPadding2D)    (None, 57, 57, 3)         0         \n",
            "_________________________________________________________________\n",
            "conv1 (Conv2D)               (None, 28, 28, 32)        864       \n",
            "_________________________________________________________________\n",
            "conv1_bn (BatchNormalization (None, 28, 28, 32)        128       \n",
            "_________________________________________________________________\n",
            "conv1_relu (ReLU)            (None, 28, 28, 32)        0         \n",
            "_________________________________________________________________\n",
            "conv_dw_1 (DepthwiseConv2D)  (None, 28, 28, 32)        288       \n",
            "_________________________________________________________________\n",
            "conv_dw_1_bn (BatchNormaliza (None, 28, 28, 32)        128       \n",
            "_________________________________________________________________\n",
            "conv_dw_1_relu (ReLU)        (None, 28, 28, 32)        0         \n",
            "_________________________________________________________________\n",
            "conv_pw_1 (Conv2D)           (None, 28, 28, 64)        2048      \n",
            "_________________________________________________________________\n",
            "conv_pw_1_bn (BatchNormaliza (None, 28, 28, 64)        256       \n",
            "_________________________________________________________________\n",
            "conv_pw_1_relu (ReLU)        (None, 28, 28, 64)        0         \n",
            "_________________________________________________________________\n",
            "conv_pad_2 (ZeroPadding2D)   (None, 29, 29, 64)        0         \n",
            "_________________________________________________________________\n",
            "conv_dw_2 (DepthwiseConv2D)  (None, 14, 14, 64)        576       \n",
            "_________________________________________________________________\n",
            "conv_dw_2_bn (BatchNormaliza (None, 14, 14, 64)        256       \n",
            "_________________________________________________________________\n",
            "conv_dw_2_relu (ReLU)        (None, 14, 14, 64)        0         \n",
            "_________________________________________________________________\n",
            "conv_pw_2 (Conv2D)           (None, 14, 14, 128)       8192      \n",
            "_________________________________________________________________\n",
            "conv_pw_2_bn (BatchNormaliza (None, 14, 14, 128)       512       \n",
            "_________________________________________________________________\n",
            "conv_pw_2_relu (ReLU)        (None, 14, 14, 128)       0         \n",
            "_________________________________________________________________\n",
            "conv_dw_3 (DepthwiseConv2D)  (None, 14, 14, 128)       1152      \n",
            "_________________________________________________________________\n",
            "conv_dw_3_bn (BatchNormaliza (None, 14, 14, 128)       512       \n",
            "_________________________________________________________________\n",
            "conv_dw_3_relu (ReLU)        (None, 14, 14, 128)       0         \n",
            "_________________________________________________________________\n",
            "conv_pw_3 (Conv2D)           (None, 14, 14, 128)       16384     \n",
            "_________________________________________________________________\n",
            "conv_pw_3_bn (BatchNormaliza (None, 14, 14, 128)       512       \n",
            "_________________________________________________________________\n",
            "conv_pw_3_relu (ReLU)        (None, 14, 14, 128)       0         \n",
            "_________________________________________________________________\n",
            "conv_pad_4 (ZeroPadding2D)   (None, 15, 15, 128)       0         \n",
            "_________________________________________________________________\n",
            "conv_dw_4 (DepthwiseConv2D)  (None, 7, 7, 128)         1152      \n",
            "_________________________________________________________________\n",
            "conv_dw_4_bn (BatchNormaliza (None, 7, 7, 128)         512       \n",
            "_________________________________________________________________\n",
            "conv_dw_4_relu (ReLU)        (None, 7, 7, 128)         0         \n",
            "_________________________________________________________________\n",
            "conv_pw_4 (Conv2D)           (None, 7, 7, 256)         32768     \n",
            "_________________________________________________________________\n",
            "conv_pw_4_bn (BatchNormaliza (None, 7, 7, 256)         1024      \n",
            "_________________________________________________________________\n",
            "conv_pw_4_relu (ReLU)        (None, 7, 7, 256)         0         \n",
            "_________________________________________________________________\n",
            "conv_dw_5 (DepthwiseConv2D)  (None, 7, 7, 256)         2304      \n",
            "_________________________________________________________________\n",
            "conv_dw_5_bn (BatchNormaliza (None, 7, 7, 256)         1024      \n",
            "_________________________________________________________________\n",
            "conv_dw_5_relu (ReLU)        (None, 7, 7, 256)         0         \n",
            "_________________________________________________________________\n",
            "conv_pw_5 (Conv2D)           (None, 7, 7, 256)         65536     \n",
            "_________________________________________________________________\n",
            "conv_pw_5_bn (BatchNormaliza (None, 7, 7, 256)         1024      \n",
            "_________________________________________________________________\n",
            "conv_pw_5_relu (ReLU)        (None, 7, 7, 256)         0         \n",
            "_________________________________________________________________\n",
            "conv_pad_6 (ZeroPadding2D)   (None, 8, 8, 256)         0         \n",
            "_________________________________________________________________\n",
            "conv_dw_6 (DepthwiseConv2D)  (None, 3, 3, 256)         2304      \n",
            "_________________________________________________________________\n",
            "conv_dw_6_bn (BatchNormaliza (None, 3, 3, 256)         1024      \n",
            "_________________________________________________________________\n",
            "conv_dw_6_relu (ReLU)        (None, 3, 3, 256)         0         \n",
            "_________________________________________________________________\n",
            "conv_pw_6 (Conv2D)           (None, 3, 3, 512)         131072    \n",
            "_________________________________________________________________\n",
            "conv_pw_6_bn (BatchNormaliza (None, 3, 3, 512)         2048      \n",
            "_________________________________________________________________\n",
            "conv_pw_6_relu (ReLU)        (None, 3, 3, 512)         0         \n",
            "_________________________________________________________________\n",
            "conv_dw_7 (DepthwiseConv2D)  (None, 3, 3, 512)         4608      \n",
            "_________________________________________________________________\n",
            "conv_dw_7_bn (BatchNormaliza (None, 3, 3, 512)         2048      \n",
            "_________________________________________________________________\n",
            "conv_dw_7_relu (ReLU)        (None, 3, 3, 512)         0         \n",
            "_________________________________________________________________\n",
            "conv_pw_7 (Conv2D)           (None, 3, 3, 512)         262144    \n",
            "_________________________________________________________________\n",
            "conv_pw_7_bn (BatchNormaliza (None, 3, 3, 512)         2048      \n",
            "_________________________________________________________________\n",
            "conv_pw_7_relu (ReLU)        (None, 3, 3, 512)         0         \n",
            "_________________________________________________________________\n",
            "conv_dw_8 (DepthwiseConv2D)  (None, 3, 3, 512)         4608      \n",
            "_________________________________________________________________\n",
            "conv_dw_8_bn (BatchNormaliza (None, 3, 3, 512)         2048      \n",
            "_________________________________________________________________\n",
            "conv_dw_8_relu (ReLU)        (None, 3, 3, 512)         0         \n",
            "_________________________________________________________________\n",
            "conv_pw_8 (Conv2D)           (None, 3, 3, 512)         262144    \n",
            "_________________________________________________________________\n",
            "conv_pw_8_bn (BatchNormaliza (None, 3, 3, 512)         2048      \n",
            "_________________________________________________________________\n",
            "conv_pw_8_relu (ReLU)        (None, 3, 3, 512)         0         \n",
            "_________________________________________________________________\n",
            "conv_dw_9 (DepthwiseConv2D)  (None, 3, 3, 512)         4608      \n",
            "_________________________________________________________________\n",
            "conv_dw_9_bn (BatchNormaliza (None, 3, 3, 512)         2048      \n",
            "_________________________________________________________________\n",
            "conv_dw_9_relu (ReLU)        (None, 3, 3, 512)         0         \n",
            "_________________________________________________________________\n",
            "conv_pw_9 (Conv2D)           (None, 3, 3, 512)         262144    \n",
            "_________________________________________________________________\n",
            "conv_pw_9_bn (BatchNormaliza (None, 3, 3, 512)         2048      \n",
            "_________________________________________________________________\n",
            "conv_pw_9_relu (ReLU)        (None, 3, 3, 512)         0         \n",
            "_________________________________________________________________\n",
            "conv_dw_10 (DepthwiseConv2D) (None, 3, 3, 512)         4608      \n",
            "_________________________________________________________________\n",
            "conv_dw_10_bn (BatchNormaliz (None, 3, 3, 512)         2048      \n",
            "_________________________________________________________________\n",
            "conv_dw_10_relu (ReLU)       (None, 3, 3, 512)         0         \n",
            "_________________________________________________________________\n",
            "conv_pw_10 (Conv2D)          (None, 3, 3, 512)         262144    \n",
            "_________________________________________________________________\n",
            "conv_pw_10_bn (BatchNormaliz (None, 3, 3, 512)         2048      \n",
            "_________________________________________________________________\n",
            "conv_pw_10_relu (ReLU)       (None, 3, 3, 512)         0         \n",
            "_________________________________________________________________\n",
            "conv_dw_11 (DepthwiseConv2D) (None, 3, 3, 512)         4608      \n",
            "_________________________________________________________________\n",
            "conv_dw_11_bn (BatchNormaliz (None, 3, 3, 512)         2048      \n",
            "_________________________________________________________________\n",
            "conv_dw_11_relu (ReLU)       (None, 3, 3, 512)         0         \n",
            "_________________________________________________________________\n",
            "conv_pw_11 (Conv2D)          (None, 3, 3, 512)         262144    \n",
            "_________________________________________________________________\n",
            "conv_pw_11_bn (BatchNormaliz (None, 3, 3, 512)         2048      \n",
            "_________________________________________________________________\n",
            "conv_pw_11_relu (ReLU)       (None, 3, 3, 512)         0         \n",
            "_________________________________________________________________\n",
            "conv_pad_12 (ZeroPadding2D)  (None, 4, 4, 512)         0         \n",
            "_________________________________________________________________\n",
            "conv_dw_12 (DepthwiseConv2D) (None, 1, 1, 512)         4608      \n",
            "_________________________________________________________________\n",
            "conv_dw_12_bn (BatchNormaliz (None, 1, 1, 512)         2048      \n",
            "_________________________________________________________________\n",
            "conv_dw_12_relu (ReLU)       (None, 1, 1, 512)         0         \n",
            "_________________________________________________________________\n",
            "conv_pw_12 (Conv2D)          (None, 1, 1, 1024)        524288    \n",
            "_________________________________________________________________\n",
            "conv_pw_12_bn (BatchNormaliz (None, 1, 1, 1024)        4096      \n",
            "_________________________________________________________________\n",
            "conv_pw_12_relu (ReLU)       (None, 1, 1, 1024)        0         \n",
            "_________________________________________________________________\n",
            "conv_dw_13 (DepthwiseConv2D) (None, 1, 1, 1024)        9216      \n",
            "_________________________________________________________________\n",
            "conv_dw_13_bn (BatchNormaliz (None, 1, 1, 1024)        4096      \n",
            "_________________________________________________________________\n",
            "conv_dw_13_relu (ReLU)       (None, 1, 1, 1024)        0         \n",
            "_________________________________________________________________\n",
            "conv_pw_13 (Conv2D)          (None, 1, 1, 1024)        1048576   \n",
            "_________________________________________________________________\n",
            "conv_pw_13_bn (BatchNormaliz (None, 1, 1, 1024)        4096      \n",
            "_________________________________________________________________\n",
            "conv_pw_13_relu (ReLU)       (None, 1, 1, 1024)        0         \n",
            "_________________________________________________________________\n",
            "global_average_pooling2d (Gl (None, 1024)              0         \n",
            "_________________________________________________________________\n",
            "dense (Dense)                (None, 1000)              1025000   \n",
            "_________________________________________________________________\n",
            "batch_normalization (BatchNo (None, 1000)              4000      \n",
            "_________________________________________________________________\n",
            "activation (Activation)      (None, 1000)              0         \n",
            "_________________________________________________________________\n",
            "dropout (Dropout)            (None, 1000)              0         \n",
            "_________________________________________________________________\n",
            "dense_1 (Dense)              (None, 10)                10010     \n",
            "=================================================================\n",
            "Total params: 4,267,874\n",
            "Trainable params: 4,243,986\n",
            "Non-trainable params: 23,888\n",
            "_________________________________________________________________\n"
          ],
          "name": "stdout"
        }
      ]
    },
    {
      "cell_type": "markdown",
      "metadata": {
        "id": "apE_I-xd-STl",
        "colab_type": "text"
      },
      "source": [
        "## Model training"
      ]
    },
    {
      "cell_type": "code",
      "metadata": {
        "colab_type": "code",
        "id": "CrbKh6s9UG46",
        "outputId": "14f718e3-5f33-4aad-b9f7-26ca90e1a188",
        "colab": {
          "base_uri": "https://localhost:8080/",
          "height": 697
        }
      },
      "source": [
        "# Train the model\n",
        "opt=tf.keras.optimizers.Adam(learning_rate=0.001, epsilon=1e-7, decay=1e-5)\n",
        "model.compile(optimizer=opt, loss='categorical_crossentropy', metrics=['accuracy'])\n",
        "\n",
        "history = model.fit(train_datagen.flow(X_train, y_binary_train, batch_size=32, seed=42), \n",
        "                    validation_data=test_datagen.flow(X_test, y_binary_test, batch_size=32, seed=42),\n",
        "                    epochs = 20)\n",
        "\n",
        "# Save the trained model\n",
        "model.save('mobile_net.h5')"
      ],
      "execution_count": 10,
      "outputs": [
        {
          "output_type": "stream",
          "text": [
            "Epoch 1/20\n",
            "1875/1875 [==============================] - 29s 15ms/step - loss: 0.4899 - accuracy: 0.8380 - val_loss: 0.3089 - val_accuracy: 0.8834\n",
            "Epoch 2/20\n",
            "1875/1875 [==============================] - 28s 15ms/step - loss: 0.3296 - accuracy: 0.8862 - val_loss: 0.2511 - val_accuracy: 0.9126\n",
            "Epoch 3/20\n",
            "1875/1875 [==============================] - 29s 15ms/step - loss: 0.3069 - accuracy: 0.8980 - val_loss: 0.2615 - val_accuracy: 0.9083\n",
            "Epoch 4/20\n",
            "1875/1875 [==============================] - 29s 15ms/step - loss: 0.2615 - accuracy: 0.9116 - val_loss: 0.2757 - val_accuracy: 0.9015\n",
            "Epoch 5/20\n",
            "1875/1875 [==============================] - 29s 16ms/step - loss: 0.2494 - accuracy: 0.9142 - val_loss: 0.2015 - val_accuracy: 0.9323\n",
            "Epoch 6/20\n",
            "1875/1875 [==============================] - 29s 15ms/step - loss: 0.2220 - accuracy: 0.9244 - val_loss: 0.2138 - val_accuracy: 0.9259\n",
            "Epoch 7/20\n",
            "1875/1875 [==============================] - 28s 15ms/step - loss: 0.2089 - accuracy: 0.9291 - val_loss: 0.1942 - val_accuracy: 0.9359\n",
            "Epoch 8/20\n",
            "1875/1875 [==============================] - 28s 15ms/step - loss: 0.1962 - accuracy: 0.9325 - val_loss: 0.1807 - val_accuracy: 0.9352\n",
            "Epoch 9/20\n",
            "1875/1875 [==============================] - 28s 15ms/step - loss: 0.1784 - accuracy: 0.9382 - val_loss: 0.2099 - val_accuracy: 0.9288\n",
            "Epoch 10/20\n",
            "1875/1875 [==============================] - 28s 15ms/step - loss: 0.1725 - accuracy: 0.9414 - val_loss: 0.1784 - val_accuracy: 0.9362\n",
            "Epoch 11/20\n",
            "1875/1875 [==============================] - 29s 15ms/step - loss: 0.1627 - accuracy: 0.9429 - val_loss: 0.2120 - val_accuracy: 0.9202\n",
            "Epoch 12/20\n",
            "1875/1875 [==============================] - 28s 15ms/step - loss: 0.1547 - accuracy: 0.9461 - val_loss: 0.1848 - val_accuracy: 0.9332\n",
            "Epoch 13/20\n",
            "1875/1875 [==============================] - 28s 15ms/step - loss: 0.1473 - accuracy: 0.9495 - val_loss: 0.1799 - val_accuracy: 0.9374\n",
            "Epoch 14/20\n",
            "1875/1875 [==============================] - 28s 15ms/step - loss: 0.1362 - accuracy: 0.9520 - val_loss: 0.1773 - val_accuracy: 0.9417\n",
            "Epoch 15/20\n",
            "1875/1875 [==============================] - 28s 15ms/step - loss: 0.1314 - accuracy: 0.9540 - val_loss: 0.1762 - val_accuracy: 0.9400\n",
            "Epoch 16/20\n",
            "1875/1875 [==============================] - 28s 15ms/step - loss: 0.1255 - accuracy: 0.9566 - val_loss: 0.1717 - val_accuracy: 0.9402\n",
            "Epoch 17/20\n",
            "1875/1875 [==============================] - 28s 15ms/step - loss: 0.1234 - accuracy: 0.9571 - val_loss: 0.1735 - val_accuracy: 0.9410\n",
            "Epoch 18/20\n",
            "1875/1875 [==============================] - 28s 15ms/step - loss: 0.1099 - accuracy: 0.9614 - val_loss: 0.1747 - val_accuracy: 0.9423\n",
            "Epoch 19/20\n",
            "1875/1875 [==============================] - 28s 15ms/step - loss: 0.1079 - accuracy: 0.9624 - val_loss: 0.1818 - val_accuracy: 0.9397\n",
            "Epoch 20/20\n",
            "1875/1875 [==============================] - 28s 15ms/step - loss: 0.1058 - accuracy: 0.9623 - val_loss: 0.1732 - val_accuracy: 0.9449\n"
          ],
          "name": "stdout"
        }
      ]
    },
    {
      "cell_type": "code",
      "metadata": {
        "colab_type": "code",
        "id": "qOWRwn-IUcw6",
        "colab": {}
      },
      "source": [
        "# Plot learning curves\n",
        "def plot_learning_curves(history):\n",
        "    plt.plot(history.history[\"accuracy\"],label=\"Train Accuracy\")\n",
        "    plt.plot(history.history[\"val_accuracy\"],label=\"Val Accuracy\")\n",
        "    plt.plot(history.history[\"loss\"],label=\"Train Loss\")\n",
        "    plt.plot(history.history[\"val_loss\"],label=\"Val Loss\")\n",
        "    plt.legend()\n",
        "    plt.show()"
      ],
      "execution_count": 0,
      "outputs": []
    },
    {
      "cell_type": "code",
      "metadata": {
        "id": "RyEZdGsyVjvA",
        "colab_type": "code",
        "outputId": "037b41ef-4b2e-4589-f633-74939337bd28",
        "colab": {
          "base_uri": "https://localhost:8080/",
          "height": 268
        }
      },
      "source": [
        "plot_learning_curves(history)"
      ],
      "execution_count": 12,
      "outputs": [
        {
          "output_type": "display_data",
          "data": {
            "image/png": "[encoded data removed]",
            "text/plain": [
              "<Figure size 432x288 with 1 Axes>"
            ]
          },
          "metadata": {
            "tags": [],
            "needs_background": "light"
          }
        }
      ]
    }
  ]
}